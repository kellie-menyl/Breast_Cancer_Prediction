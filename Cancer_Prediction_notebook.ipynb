{
 "cells": [
  {
   "cell_type": "markdown",
   "metadata": {},
   "source": [
    "# BREAST CANCER PREDICTION PROJECT"
   ]
  },
  {
   "cell_type": "markdown",
   "metadata": {},
   "source": [
    "## INTRODUCTION"
   ]
  },
  {
   "cell_type": "markdown",
   "metadata": {},
   "source": [
    "Breast cancer is one of the most common cancers affecting women worldwide. Early and accurate diagnosis is crucial for effective treatment and improving patient outcomes. in this project i aim to develop a machine model to predict whether a breast tumor is a malignant or benign based on patient derived from digitized images of breast tissue. Using this dataset i will explore various features."
   ]
  },
  {
   "cell_type": "markdown",
   "metadata": {},
   "source": [
    "This project will follow **CRISP-DM** methodology:\n",
    "1. **Business Understanding**\n",
    "2. **Data Understanding**\n",
    "3. **Data Preparation**\n",
    "4. **Modeling**\n",
    "5. **Evaluation**"
   ]
  },
  {
   "cell_type": "markdown",
   "metadata": {},
   "source": [
    "## Business Understanding"
   ]
  },
  {
   "cell_type": "markdown",
   "metadata": {},
   "source": [
    "**Problem statement**\n",
    "\n",
    "Breast cancer poses a significant health risk to women globally, with early detection being crucial for effective treatment and survival. Therefore i want to develop a reliable and accurate tool that can assist health care providers in identifying malignant(cancerous) tumors from benign(non-cancerous) ones using patient data"
   ]
  },
  {
   "cell_type": "markdown",
   "metadata": {},
   "source": [
    "**project objectives**\n",
    "\n",
    "1. Develop a predictive model\n",
    "2. Improve diagnostic accuracy\n",
    "3. Ensure the model's prediction are interpretable"
   ]
  },
  {
   "cell_type": "markdown",
   "metadata": {},
   "source": [
    "## Data Understanding"
   ]
  },
  {
   "cell_type": "markdown",
   "metadata": {},
   "source": [
    "**Dataset Name**: Breast Cancer Wisconsin (Diagnostic) Data Set\n",
    "\n",
    "### Features\n",
    "\n",
    "**ID**: Unique identifier\n",
    "\n",
    "**Diagnosis**: The target variable\n",
    "\n",
    "**30 Numeric Features**: predictors"
   ]
  },
  {
   "cell_type": "code",
   "execution_count": 57,
   "metadata": {},
   "outputs": [],
   "source": [
    "# import necessary libraries\n",
    "import pandas as pd\n",
    "import matplotlib.pyplot as plt\n",
    "import seaborn as sns\n",
    "import numpy as np\n",
    "from sklearn.preprocessing import StandardScaler, PolynomialFeatures\n",
    "from sklearn.model_selection import train_test_split\n",
    "from sklearn.linear_model import LogisticRegression\n",
    "from sklearn.metrics import classification_report, confusion_matrix\n",
    "from sklearn.tree import DecisionTreeClassifier\n",
    "from sklearn.ensemble import RandomForestClassifier\n",
    "from sklearn.ensemble import GradientBoostingClassifier"
   ]
  },
  {
   "cell_type": "code",
   "execution_count": 2,
   "metadata": {},
   "outputs": [
    {
     "data": {
      "text/html": [
       "<div>\n",
       "<style scoped>\n",
       "    .dataframe tbody tr th:only-of-type {\n",
       "        vertical-align: middle;\n",
       "    }\n",
       "\n",
       "    .dataframe tbody tr th {\n",
       "        vertical-align: top;\n",
       "    }\n",
       "\n",
       "    .dataframe thead th {\n",
       "        text-align: right;\n",
       "    }\n",
       "</style>\n",
       "<table border=\"1\" class=\"dataframe\">\n",
       "  <thead>\n",
       "    <tr style=\"text-align: right;\">\n",
       "      <th></th>\n",
       "      <th>id</th>\n",
       "      <th>diagnosis</th>\n",
       "      <th>radius_mean</th>\n",
       "      <th>texture_mean</th>\n",
       "      <th>perimeter_mean</th>\n",
       "      <th>area_mean</th>\n",
       "      <th>smoothness_mean</th>\n",
       "      <th>compactness_mean</th>\n",
       "      <th>concavity_mean</th>\n",
       "      <th>concave points_mean</th>\n",
       "      <th>...</th>\n",
       "      <th>texture_worst</th>\n",
       "      <th>perimeter_worst</th>\n",
       "      <th>area_worst</th>\n",
       "      <th>smoothness_worst</th>\n",
       "      <th>compactness_worst</th>\n",
       "      <th>concavity_worst</th>\n",
       "      <th>concave points_worst</th>\n",
       "      <th>symmetry_worst</th>\n",
       "      <th>fractal_dimension_worst</th>\n",
       "      <th>Unnamed: 32</th>\n",
       "    </tr>\n",
       "  </thead>\n",
       "  <tbody>\n",
       "    <tr>\n",
       "      <th>0</th>\n",
       "      <td>842302</td>\n",
       "      <td>M</td>\n",
       "      <td>17.99</td>\n",
       "      <td>10.38</td>\n",
       "      <td>122.80</td>\n",
       "      <td>1001.0</td>\n",
       "      <td>0.11840</td>\n",
       "      <td>0.27760</td>\n",
       "      <td>0.30010</td>\n",
       "      <td>0.14710</td>\n",
       "      <td>...</td>\n",
       "      <td>17.33</td>\n",
       "      <td>184.60</td>\n",
       "      <td>2019.0</td>\n",
       "      <td>0.16220</td>\n",
       "      <td>0.66560</td>\n",
       "      <td>0.7119</td>\n",
       "      <td>0.2654</td>\n",
       "      <td>0.4601</td>\n",
       "      <td>0.11890</td>\n",
       "      <td>NaN</td>\n",
       "    </tr>\n",
       "    <tr>\n",
       "      <th>1</th>\n",
       "      <td>842517</td>\n",
       "      <td>M</td>\n",
       "      <td>20.57</td>\n",
       "      <td>17.77</td>\n",
       "      <td>132.90</td>\n",
       "      <td>1326.0</td>\n",
       "      <td>0.08474</td>\n",
       "      <td>0.07864</td>\n",
       "      <td>0.08690</td>\n",
       "      <td>0.07017</td>\n",
       "      <td>...</td>\n",
       "      <td>23.41</td>\n",
       "      <td>158.80</td>\n",
       "      <td>1956.0</td>\n",
       "      <td>0.12380</td>\n",
       "      <td>0.18660</td>\n",
       "      <td>0.2416</td>\n",
       "      <td>0.1860</td>\n",
       "      <td>0.2750</td>\n",
       "      <td>0.08902</td>\n",
       "      <td>NaN</td>\n",
       "    </tr>\n",
       "    <tr>\n",
       "      <th>2</th>\n",
       "      <td>84300903</td>\n",
       "      <td>M</td>\n",
       "      <td>19.69</td>\n",
       "      <td>21.25</td>\n",
       "      <td>130.00</td>\n",
       "      <td>1203.0</td>\n",
       "      <td>0.10960</td>\n",
       "      <td>0.15990</td>\n",
       "      <td>0.19740</td>\n",
       "      <td>0.12790</td>\n",
       "      <td>...</td>\n",
       "      <td>25.53</td>\n",
       "      <td>152.50</td>\n",
       "      <td>1709.0</td>\n",
       "      <td>0.14440</td>\n",
       "      <td>0.42450</td>\n",
       "      <td>0.4504</td>\n",
       "      <td>0.2430</td>\n",
       "      <td>0.3613</td>\n",
       "      <td>0.08758</td>\n",
       "      <td>NaN</td>\n",
       "    </tr>\n",
       "    <tr>\n",
       "      <th>3</th>\n",
       "      <td>84348301</td>\n",
       "      <td>M</td>\n",
       "      <td>11.42</td>\n",
       "      <td>20.38</td>\n",
       "      <td>77.58</td>\n",
       "      <td>386.1</td>\n",
       "      <td>0.14250</td>\n",
       "      <td>0.28390</td>\n",
       "      <td>0.24140</td>\n",
       "      <td>0.10520</td>\n",
       "      <td>...</td>\n",
       "      <td>26.50</td>\n",
       "      <td>98.87</td>\n",
       "      <td>567.7</td>\n",
       "      <td>0.20980</td>\n",
       "      <td>0.86630</td>\n",
       "      <td>0.6869</td>\n",
       "      <td>0.2575</td>\n",
       "      <td>0.6638</td>\n",
       "      <td>0.17300</td>\n",
       "      <td>NaN</td>\n",
       "    </tr>\n",
       "    <tr>\n",
       "      <th>4</th>\n",
       "      <td>84358402</td>\n",
       "      <td>M</td>\n",
       "      <td>20.29</td>\n",
       "      <td>14.34</td>\n",
       "      <td>135.10</td>\n",
       "      <td>1297.0</td>\n",
       "      <td>0.10030</td>\n",
       "      <td>0.13280</td>\n",
       "      <td>0.19800</td>\n",
       "      <td>0.10430</td>\n",
       "      <td>...</td>\n",
       "      <td>16.67</td>\n",
       "      <td>152.20</td>\n",
       "      <td>1575.0</td>\n",
       "      <td>0.13740</td>\n",
       "      <td>0.20500</td>\n",
       "      <td>0.4000</td>\n",
       "      <td>0.1625</td>\n",
       "      <td>0.2364</td>\n",
       "      <td>0.07678</td>\n",
       "      <td>NaN</td>\n",
       "    </tr>\n",
       "    <tr>\n",
       "      <th>...</th>\n",
       "      <td>...</td>\n",
       "      <td>...</td>\n",
       "      <td>...</td>\n",
       "      <td>...</td>\n",
       "      <td>...</td>\n",
       "      <td>...</td>\n",
       "      <td>...</td>\n",
       "      <td>...</td>\n",
       "      <td>...</td>\n",
       "      <td>...</td>\n",
       "      <td>...</td>\n",
       "      <td>...</td>\n",
       "      <td>...</td>\n",
       "      <td>...</td>\n",
       "      <td>...</td>\n",
       "      <td>...</td>\n",
       "      <td>...</td>\n",
       "      <td>...</td>\n",
       "      <td>...</td>\n",
       "      <td>...</td>\n",
       "      <td>...</td>\n",
       "    </tr>\n",
       "    <tr>\n",
       "      <th>564</th>\n",
       "      <td>926424</td>\n",
       "      <td>M</td>\n",
       "      <td>21.56</td>\n",
       "      <td>22.39</td>\n",
       "      <td>142.00</td>\n",
       "      <td>1479.0</td>\n",
       "      <td>0.11100</td>\n",
       "      <td>0.11590</td>\n",
       "      <td>0.24390</td>\n",
       "      <td>0.13890</td>\n",
       "      <td>...</td>\n",
       "      <td>26.40</td>\n",
       "      <td>166.10</td>\n",
       "      <td>2027.0</td>\n",
       "      <td>0.14100</td>\n",
       "      <td>0.21130</td>\n",
       "      <td>0.4107</td>\n",
       "      <td>0.2216</td>\n",
       "      <td>0.2060</td>\n",
       "      <td>0.07115</td>\n",
       "      <td>NaN</td>\n",
       "    </tr>\n",
       "    <tr>\n",
       "      <th>565</th>\n",
       "      <td>926682</td>\n",
       "      <td>M</td>\n",
       "      <td>20.13</td>\n",
       "      <td>28.25</td>\n",
       "      <td>131.20</td>\n",
       "      <td>1261.0</td>\n",
       "      <td>0.09780</td>\n",
       "      <td>0.10340</td>\n",
       "      <td>0.14400</td>\n",
       "      <td>0.09791</td>\n",
       "      <td>...</td>\n",
       "      <td>38.25</td>\n",
       "      <td>155.00</td>\n",
       "      <td>1731.0</td>\n",
       "      <td>0.11660</td>\n",
       "      <td>0.19220</td>\n",
       "      <td>0.3215</td>\n",
       "      <td>0.1628</td>\n",
       "      <td>0.2572</td>\n",
       "      <td>0.06637</td>\n",
       "      <td>NaN</td>\n",
       "    </tr>\n",
       "    <tr>\n",
       "      <th>566</th>\n",
       "      <td>926954</td>\n",
       "      <td>M</td>\n",
       "      <td>16.60</td>\n",
       "      <td>28.08</td>\n",
       "      <td>108.30</td>\n",
       "      <td>858.1</td>\n",
       "      <td>0.08455</td>\n",
       "      <td>0.10230</td>\n",
       "      <td>0.09251</td>\n",
       "      <td>0.05302</td>\n",
       "      <td>...</td>\n",
       "      <td>34.12</td>\n",
       "      <td>126.70</td>\n",
       "      <td>1124.0</td>\n",
       "      <td>0.11390</td>\n",
       "      <td>0.30940</td>\n",
       "      <td>0.3403</td>\n",
       "      <td>0.1418</td>\n",
       "      <td>0.2218</td>\n",
       "      <td>0.07820</td>\n",
       "      <td>NaN</td>\n",
       "    </tr>\n",
       "    <tr>\n",
       "      <th>567</th>\n",
       "      <td>927241</td>\n",
       "      <td>M</td>\n",
       "      <td>20.60</td>\n",
       "      <td>29.33</td>\n",
       "      <td>140.10</td>\n",
       "      <td>1265.0</td>\n",
       "      <td>0.11780</td>\n",
       "      <td>0.27700</td>\n",
       "      <td>0.35140</td>\n",
       "      <td>0.15200</td>\n",
       "      <td>...</td>\n",
       "      <td>39.42</td>\n",
       "      <td>184.60</td>\n",
       "      <td>1821.0</td>\n",
       "      <td>0.16500</td>\n",
       "      <td>0.86810</td>\n",
       "      <td>0.9387</td>\n",
       "      <td>0.2650</td>\n",
       "      <td>0.4087</td>\n",
       "      <td>0.12400</td>\n",
       "      <td>NaN</td>\n",
       "    </tr>\n",
       "    <tr>\n",
       "      <th>568</th>\n",
       "      <td>92751</td>\n",
       "      <td>B</td>\n",
       "      <td>7.76</td>\n",
       "      <td>24.54</td>\n",
       "      <td>47.92</td>\n",
       "      <td>181.0</td>\n",
       "      <td>0.05263</td>\n",
       "      <td>0.04362</td>\n",
       "      <td>0.00000</td>\n",
       "      <td>0.00000</td>\n",
       "      <td>...</td>\n",
       "      <td>30.37</td>\n",
       "      <td>59.16</td>\n",
       "      <td>268.6</td>\n",
       "      <td>0.08996</td>\n",
       "      <td>0.06444</td>\n",
       "      <td>0.0000</td>\n",
       "      <td>0.0000</td>\n",
       "      <td>0.2871</td>\n",
       "      <td>0.07039</td>\n",
       "      <td>NaN</td>\n",
       "    </tr>\n",
       "  </tbody>\n",
       "</table>\n",
       "<p>569 rows × 33 columns</p>\n",
       "</div>"
      ],
      "text/plain": [
       "           id diagnosis  radius_mean  texture_mean  perimeter_mean  area_mean  \\\n",
       "0      842302         M        17.99         10.38          122.80     1001.0   \n",
       "1      842517         M        20.57         17.77          132.90     1326.0   \n",
       "2    84300903         M        19.69         21.25          130.00     1203.0   \n",
       "3    84348301         M        11.42         20.38           77.58      386.1   \n",
       "4    84358402         M        20.29         14.34          135.10     1297.0   \n",
       "..        ...       ...          ...           ...             ...        ...   \n",
       "564    926424         M        21.56         22.39          142.00     1479.0   \n",
       "565    926682         M        20.13         28.25          131.20     1261.0   \n",
       "566    926954         M        16.60         28.08          108.30      858.1   \n",
       "567    927241         M        20.60         29.33          140.10     1265.0   \n",
       "568     92751         B         7.76         24.54           47.92      181.0   \n",
       "\n",
       "     smoothness_mean  compactness_mean  concavity_mean  concave points_mean  \\\n",
       "0            0.11840           0.27760         0.30010              0.14710   \n",
       "1            0.08474           0.07864         0.08690              0.07017   \n",
       "2            0.10960           0.15990         0.19740              0.12790   \n",
       "3            0.14250           0.28390         0.24140              0.10520   \n",
       "4            0.10030           0.13280         0.19800              0.10430   \n",
       "..               ...               ...             ...                  ...   \n",
       "564          0.11100           0.11590         0.24390              0.13890   \n",
       "565          0.09780           0.10340         0.14400              0.09791   \n",
       "566          0.08455           0.10230         0.09251              0.05302   \n",
       "567          0.11780           0.27700         0.35140              0.15200   \n",
       "568          0.05263           0.04362         0.00000              0.00000   \n",
       "\n",
       "     ...  texture_worst  perimeter_worst  area_worst  smoothness_worst  \\\n",
       "0    ...          17.33           184.60      2019.0           0.16220   \n",
       "1    ...          23.41           158.80      1956.0           0.12380   \n",
       "2    ...          25.53           152.50      1709.0           0.14440   \n",
       "3    ...          26.50            98.87       567.7           0.20980   \n",
       "4    ...          16.67           152.20      1575.0           0.13740   \n",
       "..   ...            ...              ...         ...               ...   \n",
       "564  ...          26.40           166.10      2027.0           0.14100   \n",
       "565  ...          38.25           155.00      1731.0           0.11660   \n",
       "566  ...          34.12           126.70      1124.0           0.11390   \n",
       "567  ...          39.42           184.60      1821.0           0.16500   \n",
       "568  ...          30.37            59.16       268.6           0.08996   \n",
       "\n",
       "     compactness_worst  concavity_worst  concave points_worst  symmetry_worst  \\\n",
       "0              0.66560           0.7119                0.2654          0.4601   \n",
       "1              0.18660           0.2416                0.1860          0.2750   \n",
       "2              0.42450           0.4504                0.2430          0.3613   \n",
       "3              0.86630           0.6869                0.2575          0.6638   \n",
       "4              0.20500           0.4000                0.1625          0.2364   \n",
       "..                 ...              ...                   ...             ...   \n",
       "564            0.21130           0.4107                0.2216          0.2060   \n",
       "565            0.19220           0.3215                0.1628          0.2572   \n",
       "566            0.30940           0.3403                0.1418          0.2218   \n",
       "567            0.86810           0.9387                0.2650          0.4087   \n",
       "568            0.06444           0.0000                0.0000          0.2871   \n",
       "\n",
       "     fractal_dimension_worst  Unnamed: 32  \n",
       "0                    0.11890          NaN  \n",
       "1                    0.08902          NaN  \n",
       "2                    0.08758          NaN  \n",
       "3                    0.17300          NaN  \n",
       "4                    0.07678          NaN  \n",
       "..                       ...          ...  \n",
       "564                  0.07115          NaN  \n",
       "565                  0.06637          NaN  \n",
       "566                  0.07820          NaN  \n",
       "567                  0.12400          NaN  \n",
       "568                  0.07039          NaN  \n",
       "\n",
       "[569 rows x 33 columns]"
      ]
     },
     "execution_count": 2,
     "metadata": {},
     "output_type": "execute_result"
    }
   ],
   "source": [
    "# loading the dataset\n",
    "df = pd.read_csv('data.csv')\n",
    "# display the datafram\n",
    "df"
   ]
  },
  {
   "cell_type": "code",
   "execution_count": 3,
   "metadata": {},
   "outputs": [
    {
     "name": "stdout",
     "output_type": "stream",
     "text": [
      "Dataset contains 569 rows and 33 columns\n"
     ]
    }
   ],
   "source": [
    "# checking the dimensions of the dataset\n",
    "print(f\"Dataset contains {df.shape[0]} rows and {df.shape[1]} columns\")"
   ]
  },
  {
   "cell_type": "code",
   "execution_count": 4,
   "metadata": {},
   "outputs": [
    {
     "data": {
      "text/html": [
       "<div>\n",
       "<style scoped>\n",
       "    .dataframe tbody tr th:only-of-type {\n",
       "        vertical-align: middle;\n",
       "    }\n",
       "\n",
       "    .dataframe tbody tr th {\n",
       "        vertical-align: top;\n",
       "    }\n",
       "\n",
       "    .dataframe thead th {\n",
       "        text-align: right;\n",
       "    }\n",
       "</style>\n",
       "<table border=\"1\" class=\"dataframe\">\n",
       "  <thead>\n",
       "    <tr style=\"text-align: right;\">\n",
       "      <th></th>\n",
       "      <th>id</th>\n",
       "      <th>radius_mean</th>\n",
       "      <th>texture_mean</th>\n",
       "      <th>perimeter_mean</th>\n",
       "      <th>area_mean</th>\n",
       "      <th>smoothness_mean</th>\n",
       "      <th>compactness_mean</th>\n",
       "      <th>concavity_mean</th>\n",
       "      <th>concave points_mean</th>\n",
       "      <th>symmetry_mean</th>\n",
       "      <th>...</th>\n",
       "      <th>texture_worst</th>\n",
       "      <th>perimeter_worst</th>\n",
       "      <th>area_worst</th>\n",
       "      <th>smoothness_worst</th>\n",
       "      <th>compactness_worst</th>\n",
       "      <th>concavity_worst</th>\n",
       "      <th>concave points_worst</th>\n",
       "      <th>symmetry_worst</th>\n",
       "      <th>fractal_dimension_worst</th>\n",
       "      <th>Unnamed: 32</th>\n",
       "    </tr>\n",
       "  </thead>\n",
       "  <tbody>\n",
       "    <tr>\n",
       "      <th>count</th>\n",
       "      <td>5.690000e+02</td>\n",
       "      <td>569.000000</td>\n",
       "      <td>569.000000</td>\n",
       "      <td>569.000000</td>\n",
       "      <td>569.000000</td>\n",
       "      <td>569.000000</td>\n",
       "      <td>569.000000</td>\n",
       "      <td>569.000000</td>\n",
       "      <td>569.000000</td>\n",
       "      <td>569.000000</td>\n",
       "      <td>...</td>\n",
       "      <td>569.000000</td>\n",
       "      <td>569.000000</td>\n",
       "      <td>569.000000</td>\n",
       "      <td>569.000000</td>\n",
       "      <td>569.000000</td>\n",
       "      <td>569.000000</td>\n",
       "      <td>569.000000</td>\n",
       "      <td>569.000000</td>\n",
       "      <td>569.000000</td>\n",
       "      <td>0.0</td>\n",
       "    </tr>\n",
       "    <tr>\n",
       "      <th>mean</th>\n",
       "      <td>3.037183e+07</td>\n",
       "      <td>14.127292</td>\n",
       "      <td>19.289649</td>\n",
       "      <td>91.969033</td>\n",
       "      <td>654.889104</td>\n",
       "      <td>0.096360</td>\n",
       "      <td>0.104341</td>\n",
       "      <td>0.088799</td>\n",
       "      <td>0.048919</td>\n",
       "      <td>0.181162</td>\n",
       "      <td>...</td>\n",
       "      <td>25.677223</td>\n",
       "      <td>107.261213</td>\n",
       "      <td>880.583128</td>\n",
       "      <td>0.132369</td>\n",
       "      <td>0.254265</td>\n",
       "      <td>0.272188</td>\n",
       "      <td>0.114606</td>\n",
       "      <td>0.290076</td>\n",
       "      <td>0.083946</td>\n",
       "      <td>NaN</td>\n",
       "    </tr>\n",
       "    <tr>\n",
       "      <th>std</th>\n",
       "      <td>1.250206e+08</td>\n",
       "      <td>3.524049</td>\n",
       "      <td>4.301036</td>\n",
       "      <td>24.298981</td>\n",
       "      <td>351.914129</td>\n",
       "      <td>0.014064</td>\n",
       "      <td>0.052813</td>\n",
       "      <td>0.079720</td>\n",
       "      <td>0.038803</td>\n",
       "      <td>0.027414</td>\n",
       "      <td>...</td>\n",
       "      <td>6.146258</td>\n",
       "      <td>33.602542</td>\n",
       "      <td>569.356993</td>\n",
       "      <td>0.022832</td>\n",
       "      <td>0.157336</td>\n",
       "      <td>0.208624</td>\n",
       "      <td>0.065732</td>\n",
       "      <td>0.061867</td>\n",
       "      <td>0.018061</td>\n",
       "      <td>NaN</td>\n",
       "    </tr>\n",
       "    <tr>\n",
       "      <th>min</th>\n",
       "      <td>8.670000e+03</td>\n",
       "      <td>6.981000</td>\n",
       "      <td>9.710000</td>\n",
       "      <td>43.790000</td>\n",
       "      <td>143.500000</td>\n",
       "      <td>0.052630</td>\n",
       "      <td>0.019380</td>\n",
       "      <td>0.000000</td>\n",
       "      <td>0.000000</td>\n",
       "      <td>0.106000</td>\n",
       "      <td>...</td>\n",
       "      <td>12.020000</td>\n",
       "      <td>50.410000</td>\n",
       "      <td>185.200000</td>\n",
       "      <td>0.071170</td>\n",
       "      <td>0.027290</td>\n",
       "      <td>0.000000</td>\n",
       "      <td>0.000000</td>\n",
       "      <td>0.156500</td>\n",
       "      <td>0.055040</td>\n",
       "      <td>NaN</td>\n",
       "    </tr>\n",
       "    <tr>\n",
       "      <th>25%</th>\n",
       "      <td>8.692180e+05</td>\n",
       "      <td>11.700000</td>\n",
       "      <td>16.170000</td>\n",
       "      <td>75.170000</td>\n",
       "      <td>420.300000</td>\n",
       "      <td>0.086370</td>\n",
       "      <td>0.064920</td>\n",
       "      <td>0.029560</td>\n",
       "      <td>0.020310</td>\n",
       "      <td>0.161900</td>\n",
       "      <td>...</td>\n",
       "      <td>21.080000</td>\n",
       "      <td>84.110000</td>\n",
       "      <td>515.300000</td>\n",
       "      <td>0.116600</td>\n",
       "      <td>0.147200</td>\n",
       "      <td>0.114500</td>\n",
       "      <td>0.064930</td>\n",
       "      <td>0.250400</td>\n",
       "      <td>0.071460</td>\n",
       "      <td>NaN</td>\n",
       "    </tr>\n",
       "    <tr>\n",
       "      <th>50%</th>\n",
       "      <td>9.060240e+05</td>\n",
       "      <td>13.370000</td>\n",
       "      <td>18.840000</td>\n",
       "      <td>86.240000</td>\n",
       "      <td>551.100000</td>\n",
       "      <td>0.095870</td>\n",
       "      <td>0.092630</td>\n",
       "      <td>0.061540</td>\n",
       "      <td>0.033500</td>\n",
       "      <td>0.179200</td>\n",
       "      <td>...</td>\n",
       "      <td>25.410000</td>\n",
       "      <td>97.660000</td>\n",
       "      <td>686.500000</td>\n",
       "      <td>0.131300</td>\n",
       "      <td>0.211900</td>\n",
       "      <td>0.226700</td>\n",
       "      <td>0.099930</td>\n",
       "      <td>0.282200</td>\n",
       "      <td>0.080040</td>\n",
       "      <td>NaN</td>\n",
       "    </tr>\n",
       "    <tr>\n",
       "      <th>75%</th>\n",
       "      <td>8.813129e+06</td>\n",
       "      <td>15.780000</td>\n",
       "      <td>21.800000</td>\n",
       "      <td>104.100000</td>\n",
       "      <td>782.700000</td>\n",
       "      <td>0.105300</td>\n",
       "      <td>0.130400</td>\n",
       "      <td>0.130700</td>\n",
       "      <td>0.074000</td>\n",
       "      <td>0.195700</td>\n",
       "      <td>...</td>\n",
       "      <td>29.720000</td>\n",
       "      <td>125.400000</td>\n",
       "      <td>1084.000000</td>\n",
       "      <td>0.146000</td>\n",
       "      <td>0.339100</td>\n",
       "      <td>0.382900</td>\n",
       "      <td>0.161400</td>\n",
       "      <td>0.317900</td>\n",
       "      <td>0.092080</td>\n",
       "      <td>NaN</td>\n",
       "    </tr>\n",
       "    <tr>\n",
       "      <th>max</th>\n",
       "      <td>9.113205e+08</td>\n",
       "      <td>28.110000</td>\n",
       "      <td>39.280000</td>\n",
       "      <td>188.500000</td>\n",
       "      <td>2501.000000</td>\n",
       "      <td>0.163400</td>\n",
       "      <td>0.345400</td>\n",
       "      <td>0.426800</td>\n",
       "      <td>0.201200</td>\n",
       "      <td>0.304000</td>\n",
       "      <td>...</td>\n",
       "      <td>49.540000</td>\n",
       "      <td>251.200000</td>\n",
       "      <td>4254.000000</td>\n",
       "      <td>0.222600</td>\n",
       "      <td>1.058000</td>\n",
       "      <td>1.252000</td>\n",
       "      <td>0.291000</td>\n",
       "      <td>0.663800</td>\n",
       "      <td>0.207500</td>\n",
       "      <td>NaN</td>\n",
       "    </tr>\n",
       "  </tbody>\n",
       "</table>\n",
       "<p>8 rows × 32 columns</p>\n",
       "</div>"
      ],
      "text/plain": [
       "                 id  radius_mean  texture_mean  perimeter_mean    area_mean  \\\n",
       "count  5.690000e+02   569.000000    569.000000      569.000000   569.000000   \n",
       "mean   3.037183e+07    14.127292     19.289649       91.969033   654.889104   \n",
       "std    1.250206e+08     3.524049      4.301036       24.298981   351.914129   \n",
       "min    8.670000e+03     6.981000      9.710000       43.790000   143.500000   \n",
       "25%    8.692180e+05    11.700000     16.170000       75.170000   420.300000   \n",
       "50%    9.060240e+05    13.370000     18.840000       86.240000   551.100000   \n",
       "75%    8.813129e+06    15.780000     21.800000      104.100000   782.700000   \n",
       "max    9.113205e+08    28.110000     39.280000      188.500000  2501.000000   \n",
       "\n",
       "       smoothness_mean  compactness_mean  concavity_mean  concave points_mean  \\\n",
       "count       569.000000        569.000000      569.000000           569.000000   \n",
       "mean          0.096360          0.104341        0.088799             0.048919   \n",
       "std           0.014064          0.052813        0.079720             0.038803   \n",
       "min           0.052630          0.019380        0.000000             0.000000   \n",
       "25%           0.086370          0.064920        0.029560             0.020310   \n",
       "50%           0.095870          0.092630        0.061540             0.033500   \n",
       "75%           0.105300          0.130400        0.130700             0.074000   \n",
       "max           0.163400          0.345400        0.426800             0.201200   \n",
       "\n",
       "       symmetry_mean  ...  texture_worst  perimeter_worst   area_worst  \\\n",
       "count     569.000000  ...     569.000000       569.000000   569.000000   \n",
       "mean        0.181162  ...      25.677223       107.261213   880.583128   \n",
       "std         0.027414  ...       6.146258        33.602542   569.356993   \n",
       "min         0.106000  ...      12.020000        50.410000   185.200000   \n",
       "25%         0.161900  ...      21.080000        84.110000   515.300000   \n",
       "50%         0.179200  ...      25.410000        97.660000   686.500000   \n",
       "75%         0.195700  ...      29.720000       125.400000  1084.000000   \n",
       "max         0.304000  ...      49.540000       251.200000  4254.000000   \n",
       "\n",
       "       smoothness_worst  compactness_worst  concavity_worst  \\\n",
       "count        569.000000         569.000000       569.000000   \n",
       "mean           0.132369           0.254265         0.272188   \n",
       "std            0.022832           0.157336         0.208624   \n",
       "min            0.071170           0.027290         0.000000   \n",
       "25%            0.116600           0.147200         0.114500   \n",
       "50%            0.131300           0.211900         0.226700   \n",
       "75%            0.146000           0.339100         0.382900   \n",
       "max            0.222600           1.058000         1.252000   \n",
       "\n",
       "       concave points_worst  symmetry_worst  fractal_dimension_worst  \\\n",
       "count            569.000000      569.000000               569.000000   \n",
       "mean               0.114606        0.290076                 0.083946   \n",
       "std                0.065732        0.061867                 0.018061   \n",
       "min                0.000000        0.156500                 0.055040   \n",
       "25%                0.064930        0.250400                 0.071460   \n",
       "50%                0.099930        0.282200                 0.080040   \n",
       "75%                0.161400        0.317900                 0.092080   \n",
       "max                0.291000        0.663800                 0.207500   \n",
       "\n",
       "       Unnamed: 32  \n",
       "count          0.0  \n",
       "mean           NaN  \n",
       "std            NaN  \n",
       "min            NaN  \n",
       "25%            NaN  \n",
       "50%            NaN  \n",
       "75%            NaN  \n",
       "max            NaN  \n",
       "\n",
       "[8 rows x 32 columns]"
      ]
     },
     "execution_count": 4,
     "metadata": {},
     "output_type": "execute_result"
    }
   ],
   "source": [
    "# summary statistics of the dataset\n",
    "df.describe()"
   ]
  },
  {
   "cell_type": "code",
   "execution_count": 5,
   "metadata": {},
   "outputs": [
    {
     "name": "stdout",
     "output_type": "stream",
     "text": [
      "<class 'pandas.core.frame.DataFrame'>\n",
      "RangeIndex: 569 entries, 0 to 568\n",
      "Data columns (total 33 columns):\n",
      " #   Column                   Non-Null Count  Dtype  \n",
      "---  ------                   --------------  -----  \n",
      " 0   id                       569 non-null    int64  \n",
      " 1   diagnosis                569 non-null    object \n",
      " 2   radius_mean              569 non-null    float64\n",
      " 3   texture_mean             569 non-null    float64\n",
      " 4   perimeter_mean           569 non-null    float64\n",
      " 5   area_mean                569 non-null    float64\n",
      " 6   smoothness_mean          569 non-null    float64\n",
      " 7   compactness_mean         569 non-null    float64\n",
      " 8   concavity_mean           569 non-null    float64\n",
      " 9   concave points_mean      569 non-null    float64\n",
      " 10  symmetry_mean            569 non-null    float64\n",
      " 11  fractal_dimension_mean   569 non-null    float64\n",
      " 12  radius_se                569 non-null    float64\n",
      " 13  texture_se               569 non-null    float64\n",
      " 14  perimeter_se             569 non-null    float64\n",
      " 15  area_se                  569 non-null    float64\n",
      " 16  smoothness_se            569 non-null    float64\n",
      " 17  compactness_se           569 non-null    float64\n",
      " 18  concavity_se             569 non-null    float64\n",
      " 19  concave points_se        569 non-null    float64\n",
      " 20  symmetry_se              569 non-null    float64\n",
      " 21  fractal_dimension_se     569 non-null    float64\n",
      " 22  radius_worst             569 non-null    float64\n",
      " 23  texture_worst            569 non-null    float64\n",
      " 24  perimeter_worst          569 non-null    float64\n",
      " 25  area_worst               569 non-null    float64\n",
      " 26  smoothness_worst         569 non-null    float64\n",
      " 27  compactness_worst        569 non-null    float64\n",
      " 28  concavity_worst          569 non-null    float64\n",
      " 29  concave points_worst     569 non-null    float64\n",
      " 30  symmetry_worst           569 non-null    float64\n",
      " 31  fractal_dimension_worst  569 non-null    float64\n",
      " 32  Unnamed: 32              0 non-null      float64\n",
      "dtypes: float64(31), int64(1), object(1)\n",
      "memory usage: 146.8+ KB\n"
     ]
    }
   ],
   "source": [
    "# checking the data types\n",
    "df.info()"
   ]
  },
  {
   "cell_type": "code",
   "execution_count": 6,
   "metadata": {},
   "outputs": [
    {
     "name": "stdout",
     "output_type": "stream",
     "text": [
      "\n",
      "Rows with Missing values in the dataset:\n",
      "Unnamed: 32    569\n",
      "dtype: int64\n",
      "\n"
     ]
    }
   ],
   "source": [
    "# checking for missing values\n",
    "missing_value = df.isnull().sum()\n",
    "missing_values = missing_value[missing_value > 0]\n",
    "print(f\"\"\"\n",
    "Rows with Missing values in the dataset:\n",
    "{missing_values}\n",
    "\"\"\")"
   ]
  },
  {
   "cell_type": "code",
   "execution_count": 7,
   "metadata": {},
   "outputs": [
    {
     "data": {
      "text/plain": [
       "B    357\n",
       "M    212\n",
       "Name: diagnosis, dtype: int64"
      ]
     },
     "execution_count": 7,
     "metadata": {},
     "output_type": "execute_result"
    }
   ],
   "source": [
    "# exploring the distribution of the target variable\n",
    "df['diagnosis'].value_counts()"
   ]
  },
  {
   "cell_type": "markdown",
   "metadata": {},
   "source": [
    "**Distribution of Tumor Diagnosis**"
   ]
  },
  {
   "cell_type": "markdown",
   "metadata": {},
   "source": [
    "The bar chart below shows the distribution of the target variable, 'diagnosis', which indicates whether a tumor is Benign(B) or malignant(M)."
   ]
  },
  {
   "cell_type": "code",
   "execution_count": 8,
   "metadata": {},
   "outputs": [
    {
     "data": {
      "image/png": "[encoded data removed]",
      "text/plain": [
       "<Figure size 432x288 with 1 Axes>"
      ]
     },
     "metadata": {
      "needs_background": "light"
     },
     "output_type": "display_data"
    }
   ],
   "source": [
    "# visualizing the target variable\n",
    "sns.countplot(x='diagnosis', data=df, palette='Set2')\n",
    "plt.title('Distribution of Tumor Diagnosis')\n",
    "plt.xlabel('Diagnosis')\n",
    "plt.ylabel('Count')\n",
    "plt.show()"
   ]
  },
  {
   "cell_type": "markdown",
   "metadata": {},
   "source": [
    "## Data Preparation"
   ]
  },
  {
   "cell_type": "markdown",
   "metadata": {},
   "source": [
    "Preparing data for modelling by:\n",
    "1. **Data cleaning**\n",
    "2. **Feature selection**\n",
    "3. **Feature scaling**\n",
    "4. **Splitting the data**"
   ]
  },
  {
   "cell_type": "markdown",
   "metadata": {},
   "source": [
    "**Data Cleaning**"
   ]
  },
  {
   "cell_type": "code",
   "execution_count": 9,
   "metadata": {},
   "outputs": [],
   "source": [
    "# dropping the column with missing values\n",
    "df = df.drop('Unnamed: 32', axis=1)"
   ]
  },
  {
   "cell_type": "code",
   "execution_count": 10,
   "metadata": {},
   "outputs": [
    {
     "name": "stdout",
     "output_type": "stream",
     "text": [
      "There are no missing values\n"
     ]
    }
   ],
   "source": [
    "# rechecking for missing values\n",
    "missing_val = df.isnull().sum()\n",
    "if missing_val.sum() > 0:\n",
    "    print(\"There are missing values\")\n",
    "else:\n",
    "    print(\"There are no missing values\")"
   ]
  },
  {
   "cell_type": "code",
   "execution_count": 11,
   "metadata": {},
   "outputs": [],
   "source": [
    "# removing the ID column since it is not useful for modelling\n",
    "df = df.drop(columns=['id'])"
   ]
  },
  {
   "cell_type": "code",
   "execution_count": 12,
   "metadata": {},
   "outputs": [],
   "source": [
    "# converting the diagnosis column to a numerical format\n",
    "df['diagnosis'] = df['diagnosis'].map({'B':0, 'M':1})"
   ]
  },
  {
   "cell_type": "code",
   "execution_count": 13,
   "metadata": {},
   "outputs": [],
   "source": [
    "# saving the clean data to a new csv file\n",
    "df.to_csv('cleaned_data.csv', index=False)"
   ]
  },
  {
   "cell_type": "markdown",
   "metadata": {},
   "source": [
    "**Feature Selection**"
   ]
  },
  {
   "cell_type": "code",
   "execution_count": 14,
   "metadata": {},
   "outputs": [],
   "source": [
    "# selecting the target and the feature variables\n",
    "y = df['diagnosis']\n",
    "X = df.drop('diagnosis', axis=1)"
   ]
  },
  {
   "cell_type": "markdown",
   "metadata": {},
   "source": [
    "**Feature Scaling**"
   ]
  },
  {
   "cell_type": "code",
   "execution_count": 15,
   "metadata": {},
   "outputs": [],
   "source": [
    "# standardizing the features\n",
    "scaler = StandardScaler()\n",
    "X_scaled = scaler.fit_transform(X)"
   ]
  },
  {
   "cell_type": "markdown",
   "metadata": {},
   "source": [
    "**Splitting the Data**"
   ]
  },
  {
   "cell_type": "code",
   "execution_count": 16,
   "metadata": {},
   "outputs": [
    {
     "name": "stdout",
     "output_type": "stream",
     "text": [
      "Training set size: 426\n",
      "Testing set size: 143\n"
     ]
    }
   ],
   "source": [
    "# splitting the data into training and testing sets\n",
    "X_train, X_test, y_train, y_test = train_test_split(X_scaled, y, random_state=42)\n",
    "# display train and test sizes\n",
    "print(f\"Training set size: {X_train.shape[0]}\")\n",
    "print(f\"Testing set size: {X_test.shape[0]}\")"
   ]
  },
  {
   "cell_type": "markdown",
   "metadata": {},
   "source": [
    "## Modeling"
   ]
  },
  {
   "cell_type": "markdown",
   "metadata": {},
   "source": [
    "1. **Train a Basic Logistic Regression Model**"
   ]
  },
  {
   "cell_type": "code",
   "execution_count": 17,
   "metadata": {},
   "outputs": [],
   "source": [
    "# instatiating the model\n",
    "lr = LogisticRegression(random_state=42)"
   ]
  },
  {
   "cell_type": "code",
   "execution_count": 18,
   "metadata": {},
   "outputs": [
    {
     "data": {
      "text/plain": [
       "LogisticRegression(random_state=42)"
      ]
     },
     "execution_count": 18,
     "metadata": {},
     "output_type": "execute_result"
    }
   ],
   "source": [
    "# Train the model\n",
    "lr.fit(X_train, y_train)"
   ]
  },
  {
   "cell_type": "code",
   "execution_count": 19,
   "metadata": {},
   "outputs": [],
   "source": [
    "# making predictions\n",
    "y_pred_lr = lr.predict(X_test)"
   ]
  },
  {
   "cell_type": "code",
   "execution_count": 20,
   "metadata": {},
   "outputs": [
    {
     "name": "stdout",
     "output_type": "stream",
     "text": [
      "Logistic Regression - Confusion MatriX: \n",
      " [[87  2]\n",
      " [ 1 53]]\n",
      "Logistic Regression - Classification Report: \n",
      "               precision    recall  f1-score   support\n",
      "\n",
      "           0       0.99      0.98      0.98        89\n",
      "           1       0.96      0.98      0.97        54\n",
      "\n",
      "    accuracy                           0.98       143\n",
      "   macro avg       0.98      0.98      0.98       143\n",
      "weighted avg       0.98      0.98      0.98       143\n",
      "\n"
     ]
    }
   ],
   "source": [
    "# Evaluating the model\n",
    "print(\"Logistic Regression - Confusion MatriX: \\n\", confusion_matrix(y_test, y_pred_lr))\n",
    "print(\"Logistic Regression - Classification Report: \\n\", classification_report(y_test, y_pred_lr))"
   ]
  },
  {
   "cell_type": "markdown",
   "metadata": {},
   "source": [
    "2. **Explore nonparametric models**"
   ]
  },
  {
   "cell_type": "markdown",
   "metadata": {},
   "source": [
    "* **Decision Trees Model**"
   ]
  },
  {
   "cell_type": "code",
   "execution_count": 21,
   "metadata": {},
   "outputs": [],
   "source": [
    "# instatiating the model\n",
    "dt = DecisionTreeClassifier(random_state=42)"
   ]
  },
  {
   "cell_type": "code",
   "execution_count": 22,
   "metadata": {},
   "outputs": [
    {
     "data": {
      "text/plain": [
       "DecisionTreeClassifier(random_state=42)"
      ]
     },
     "execution_count": 22,
     "metadata": {},
     "output_type": "execute_result"
    }
   ],
   "source": [
    "# training the model\n",
    "dt.fit(X_train, y_train)"
   ]
  },
  {
   "cell_type": "code",
   "execution_count": 23,
   "metadata": {},
   "outputs": [],
   "source": [
    "# making predictions\n",
    "y_pred_dt = dt.predict(X_test)"
   ]
  },
  {
   "cell_type": "code",
   "execution_count": 24,
   "metadata": {},
   "outputs": [
    {
     "name": "stdout",
     "output_type": "stream",
     "text": [
      "Decision Tree - Confusion Matrix:\n",
      " [[85  4]\n",
      " [ 3 51]]\n",
      "\n",
      "Decision Tree - Classification Report:\n",
      "               precision    recall  f1-score   support\n",
      "\n",
      "           0       0.97      0.96      0.96        89\n",
      "           1       0.93      0.94      0.94        54\n",
      "\n",
      "    accuracy                           0.95       143\n",
      "   macro avg       0.95      0.95      0.95       143\n",
      "weighted avg       0.95      0.95      0.95       143\n",
      "\n"
     ]
    }
   ],
   "source": [
    "# Evaluate the model\n",
    "print(\"Decision Tree - Confusion Matrix:\\n\", confusion_matrix(y_test, y_pred_dt))\n",
    "print(\"\\nDecision Tree - Classification Report:\\n\", classification_report(y_test, y_pred_dt))"
   ]
  },
  {
   "cell_type": "markdown",
   "metadata": {},
   "source": [
    "* **Random Forest Model**"
   ]
  },
  {
   "cell_type": "code",
   "execution_count": 25,
   "metadata": {},
   "outputs": [],
   "source": [
    "# instatiating the model\n",
    "rf = RandomForestClassifier(random_state=42)"
   ]
  },
  {
   "cell_type": "code",
   "execution_count": 26,
   "metadata": {},
   "outputs": [
    {
     "data": {
      "text/plain": [
       "RandomForestClassifier(random_state=42)"
      ]
     },
     "execution_count": 26,
     "metadata": {},
     "output_type": "execute_result"
    }
   ],
   "source": [
    "# training the model\n",
    "rf.fit(X_train, y_train)"
   ]
  },
  {
   "cell_type": "code",
   "execution_count": 27,
   "metadata": {},
   "outputs": [],
   "source": [
    "# making predictions\n",
    "y_pred_rf = rf.predict(X_test)"
   ]
  },
  {
   "cell_type": "code",
   "execution_count": 28,
   "metadata": {},
   "outputs": [
    {
     "name": "stdout",
     "output_type": "stream",
     "text": [
      "Random Forest - Confusion Matrix:\n",
      " [[87  2]\n",
      " [ 3 51]]\n",
      "\n",
      "Random Forest - Classification Report:\n",
      "               precision    recall  f1-score   support\n",
      "\n",
      "           0       0.97      0.98      0.97        89\n",
      "           1       0.96      0.94      0.95        54\n",
      "\n",
      "    accuracy                           0.97       143\n",
      "   macro avg       0.96      0.96      0.96       143\n",
      "weighted avg       0.97      0.97      0.96       143\n",
      "\n"
     ]
    }
   ],
   "source": [
    "# evaluating the model\n",
    "print(\"Random Forest - Confusion Matrix:\\n\", confusion_matrix(y_test, y_pred_rf))\n",
    "print(\"\\nRandom Forest - Classification Report:\\n\", classification_report(y_test, y_pred_rf))"
   ]
  },
  {
   "cell_type": "markdown",
   "metadata": {},
   "source": [
    "* **Gradient Boosting**"
   ]
  },
  {
   "cell_type": "code",
   "execution_count": 29,
   "metadata": {},
   "outputs": [],
   "source": [
    "# instatiating the model \n",
    "gb = GradientBoostingClassifier(random_state=42)"
   ]
  },
  {
   "cell_type": "code",
   "execution_count": 30,
   "metadata": {},
   "outputs": [
    {
     "data": {
      "text/plain": [
       "GradientBoostingClassifier(random_state=42)"
      ]
     },
     "execution_count": 30,
     "metadata": {},
     "output_type": "execute_result"
    }
   ],
   "source": [
    "# training the model\n",
    "gb.fit(X_train, y_train)"
   ]
  },
  {
   "cell_type": "code",
   "execution_count": 31,
   "metadata": {},
   "outputs": [],
   "source": [
    "# making predictions\n",
    "y_pred_gb = gb.predict(X_test)"
   ]
  },
  {
   "cell_type": "code",
   "execution_count": 32,
   "metadata": {},
   "outputs": [
    {
     "name": "stdout",
     "output_type": "stream",
     "text": [
      "Gradient Boosting - Confusion Matrix:\n",
      " [[86  3]\n",
      " [ 3 51]]\n",
      "\n",
      "Gradient Boosting - Classification Report:\n",
      "               precision    recall  f1-score   support\n",
      "\n",
      "           0       0.97      0.97      0.97        89\n",
      "           1       0.94      0.94      0.94        54\n",
      "\n",
      "    accuracy                           0.96       143\n",
      "   macro avg       0.96      0.96      0.96       143\n",
      "weighted avg       0.96      0.96      0.96       143\n",
      "\n"
     ]
    }
   ],
   "source": [
    "# evaluating the model\n",
    "print(\"Gradient Boosting - Confusion Matrix:\\n\", confusion_matrix(y_test, y_pred_gb))\n",
    "print(\"\\nGradient Boosting - Classification Report:\\n\", classification_report(y_test, y_pred_gb))"
   ]
  },
  {
   "cell_type": "markdown",
   "metadata": {},
   "source": [
    "### Evaluation"
   ]
  },
  {
   "cell_type": "markdown",
   "metadata": {},
   "source": [
    "I will compare the Logistic Regression, Decision Tree, Random Forest and  Gradient Boosting models using the following evaluation metrics:\n",
    "1. Accuracy\n",
    "2. Precision\n",
    "3. Recall\n",
    "4. F1-Score\n",
    "5. Confusion Matrix"
   ]
  },
  {
   "cell_type": "markdown",
   "metadata": {},
   "source": [
    "1. **Accuracy**"
   ]
  },
  {
   "cell_type": "markdown",
   "metadata": {},
   "source": [
    "|**Models**|**Accuracy**|\n",
    "|----------|-----|\n",
    "|Logistics Regression|98%|\n",
    "|Decision Tree|95%|\n",
    "|Random Forest|97%|\n",
    "|Gradient Boosting|96%|"
   ]
  },
  {
   "cell_type": "markdown",
   "metadata": {},
   "source": [
    "Logistic Regression achieved the highest accuracy of 98%, indicating it correctly predicts the outcome most often compared to other models."
   ]
  },
  {
   "cell_type": "markdown",
   "metadata": {},
   "source": [
    "2. **Precision**"
   ]
  },
  {
   "cell_type": "markdown",
   "metadata": {},
   "source": [
    "|**Models**|**Benign(0)**|**Malignant(1)**|\n",
    "|----------|-----|-----|\n",
    "|Logistics Regression|99%|96%|\n",
    "|Decision Tree|97%|93%|\n",
    "|Random Forest|97%|96%|\n",
    "|Gradient Boosting|97%|94%|"
   ]
  },
  {
   "cell_type": "markdown",
   "metadata": {},
   "source": [
    "Logistic Regression has the highest precision compared to other classes, especially for class 0 (Benign) with 99% precision, meaning it has the fewest false positives."
   ]
  },
  {
   "cell_type": "markdown",
   "metadata": {},
   "source": [
    "3. **Recall**"
   ]
  },
  {
   "cell_type": "markdown",
   "metadata": {},
   "source": [
    "|**Models**|**Benign(0)**|**Malignant(1)**|\n",
    "|----------|-----|-----|\n",
    "|Logistics Regression|98%|98%|\n",
    "|Decision Tree|96%|94%|\n",
    "|Random Forest|98%|94%|\n",
    "|Gradient Boosting|97%|94%|"
   ]
  },
  {
   "cell_type": "markdown",
   "metadata": {},
   "source": [
    "Logistic Regression demonstrates better recall. Identifyies more true positives and having fewer false negatives."
   ]
  },
  {
   "cell_type": "markdown",
   "metadata": {},
   "source": [
    "4. **F1-Score**"
   ]
  },
  {
   "cell_type": "markdown",
   "metadata": {},
   "source": [
    "|**Models**|**Benign(0)**|**Malignant(1)**|\n",
    "|----------|-----|-----|\n",
    "|Logistics Regression|98%|97%|\n",
    "|Decision Tree|96%|94%|\n",
    "|Random Forest|97%|95%|\n",
    "|Gradient Boosting|97%|94%|"
   ]
  },
  {
   "cell_type": "markdown",
   "metadata": {},
   "source": [
    "Logistic Regression has higher F1-Scores. This indicates a better balance between precision and recall"
   ]
  },
  {
   "cell_type": "markdown",
   "metadata": {},
   "source": [
    "5. **Confusion Matrix**"
   ]
  },
  {
   "cell_type": "markdown",
   "metadata": {},
   "source": [
    "* Logistic Regression"
   ]
  },
  {
   "cell_type": "markdown",
   "metadata": {},
   "source": [
    "|                       | **Actual Positive** | **Actual Negative** |\n",
    "|-----------------------|---------------------|---------------------|\n",
    "| **Predicted Positive** |         87          |          2           |\n",
    "| **Predicted Negative** |         1           |         53           |\n"
   ]
  },
  {
   "cell_type": "markdown",
   "metadata": {},
   "source": [
    "* Decision Tree"
   ]
  },
  {
   "cell_type": "markdown",
   "metadata": {},
   "source": [
    "|                       | **Actual Positive** | **Actual Negative** |\n",
    "|-----------------------|---------------------|---------------------|\n",
    "| **Predicted Positive** |         85          |          4           |\n",
    "| **Predicted Negative** |         3           |         51           |\n"
   ]
  },
  {
   "cell_type": "markdown",
   "metadata": {},
   "source": [
    "* Random Forest"
   ]
  },
  {
   "cell_type": "markdown",
   "metadata": {},
   "source": [
    "|                       | **Actual Positive** | **Actual Negative** |\n",
    "|-----------------------|---------------------|---------------------|\n",
    "| **Predicted Positive** |         87          |          2           |\n",
    "| **Predicted Negative** |         3           |         51           |\n"
   ]
  },
  {
   "cell_type": "markdown",
   "metadata": {},
   "source": [
    "* Gradient Boosting"
   ]
  },
  {
   "cell_type": "markdown",
   "metadata": {},
   "source": [
    "|                       | **Actual Positive** | **Actual Negative** |\n",
    "|-----------------------|---------------------|---------------------|\n",
    "| **Predicted Positive** |         86          |          3           |\n",
    "| **Predicted Negative** |         3           |         51           |\n"
   ]
  },
  {
   "cell_type": "markdown",
   "metadata": {},
   "source": [
    "**True Positives and True Negatives:** Logistic regression correctly identifies more true positives and true negatives compared to other models.\n",
    "\n",
    "**False Positives and False Negatives:** Logistic regression has fewer false positives and false negatives compared to other models."
   ]
  },
  {
   "cell_type": "markdown",
   "metadata": {},
   "source": [
    "The objective of this project was to develop a predictuve model to classify breast tumors as eithe benign or malignant using machine learning techniques. \n",
    "\n",
    "After comparing multiple models, including:\n",
    "1. Logistic Regression\n",
    "2. Decision Tree\n",
    "3. Random Forest\n",
    "4. Gradient Boosting\n",
    "\n",
    "**Logistic Regression** emerged as the most effective model."
   ]
  },
  {
   "cell_type": "markdown",
   "metadata": {},
   "source": [
    "## Feature Engeneering"
   ]
  },
  {
   "cell_type": "markdown",
   "metadata": {},
   "source": [
    "**Polynomial Features**"
   ]
  },
  {
   "cell_type": "code",
   "execution_count": 42,
   "metadata": {},
   "outputs": [],
   "source": [
    "# Create polynomial features\n",
    "poly = PolynomialFeatures(degree=2, include_bias=False, interaction_only=False)\n",
    "X_train_poly = poly.fit_transform(X_train)\n",
    "X_test_poly = poly.transform(X_test)"
   ]
  },
  {
   "cell_type": "markdown",
   "metadata": {},
   "source": [
    " - I used `PolynomialFeatures` with a degree of 2 to create new features. "
   ]
  },
  {
   "cell_type": "code",
   "execution_count": 43,
   "metadata": {},
   "outputs": [],
   "source": [
    "# Feature scaling\n",
    "scaler = StandardScaler()\n",
    "X_train_poly = scaler.fit_transform(X_train_poly)\n",
    "X_test_poly = scaler.transform(X_test_poly)"
   ]
  },
  {
   "cell_type": "markdown",
   "metadata": {},
   "source": [
    "- I applied standard scaling using `StandardScaler` to ensure that all features have a mean of 0 and a standard deviation of 1."
   ]
  },
  {
   "cell_type": "code",
   "execution_count": 44,
   "metadata": {},
   "outputs": [
    {
     "data": {
      "text/plain": [
       "LogisticRegression(max_iter=1000)"
      ]
     },
     "execution_count": 44,
     "metadata": {},
     "output_type": "execute_result"
    }
   ],
   "source": [
    "# Train logistic regression model with polynomial features\n",
    "lg = LogisticRegression(max_iter=1000)\n",
    "lg.fit(X_train_poly, y_train)"
   ]
  },
  {
   "cell_type": "markdown",
   "metadata": {},
   "source": [
    "- After transforming the features, I trained a logistic regression model on the new polynomial features.\n",
    "- I trained the model with `max_iter=1000` to ensure convergence given the increased complexity of the feature set."
   ]
  },
  {
   "cell_type": "code",
   "execution_count": 45,
   "metadata": {},
   "outputs": [],
   "source": [
    "# Predictions\n",
    "y_pred = lg.predict(X_test_poly)"
   ]
  },
  {
   "cell_type": "code",
   "execution_count": 48,
   "metadata": {},
   "outputs": [
    {
     "data": {
      "text/plain": [
       "Index(['radius_mean', 'texture_mean', 'perimeter_mean', 'area_mean',\n",
       "       'smoothness_mean', 'compactness_mean', 'concavity_mean',\n",
       "       'concave points_mean', 'symmetry_mean', 'fractal_dimension_mean',\n",
       "       'radius_se', 'texture_se', 'perimeter_se', 'area_se', 'smoothness_se',\n",
       "       'compactness_se', 'concavity_se', 'concave points_se', 'symmetry_se',\n",
       "       'fractal_dimension_se', 'radius_worst', 'texture_worst',\n",
       "       'perimeter_worst', 'area_worst', 'smoothness_worst',\n",
       "       'compactness_worst', 'concavity_worst', 'concave points_worst',\n",
       "       'symmetry_worst', 'fractal_dimension_worst'],\n",
       "      dtype='object')"
      ]
     },
     "execution_count": 48,
     "metadata": {},
     "output_type": "execute_result"
    }
   ],
   "source": [
    "# Get the names of the original features\n",
    "feature_names = X.columns\n",
    "feature_names"
   ]
  },
  {
   "cell_type": "code",
   "execution_count": 50,
   "metadata": {},
   "outputs": [
    {
     "data": {
      "text/plain": [
       "['radius_mean',\n",
       " 'texture_mean',\n",
       " 'perimeter_mean',\n",
       " 'area_mean',\n",
       " 'smoothness_mean',\n",
       " 'compactness_mean',\n",
       " 'concavity_mean',\n",
       " 'concave points_mean',\n",
       " 'symmetry_mean',\n",
       " 'fractal_dimension_mean',\n",
       " 'radius_se',\n",
       " 'texture_se',\n",
       " 'perimeter_se',\n",
       " 'area_se',\n",
       " 'smoothness_se',\n",
       " 'compactness_se',\n",
       " 'concavity_se',\n",
       " 'concave points_se',\n",
       " 'symmetry_se',\n",
       " 'fractal_dimension_se',\n",
       " 'radius_worst',\n",
       " 'texture_worst',\n",
       " 'perimeter_worst',\n",
       " 'area_worst',\n",
       " 'smoothness_worst',\n",
       " 'compactness_worst',\n",
       " 'concavity_worst',\n",
       " 'concave points_worst',\n",
       " 'symmetry_worst',\n",
       " 'fractal_dimension_worst',\n",
       " 'radius_mean^2',\n",
       " 'radius_mean texture_mean',\n",
       " 'radius_mean perimeter_mean',\n",
       " 'radius_mean area_mean',\n",
       " 'radius_mean smoothness_mean',\n",
       " 'radius_mean compactness_mean',\n",
       " 'radius_mean concavity_mean',\n",
       " 'radius_mean concave points_mean',\n",
       " 'radius_mean symmetry_mean',\n",
       " 'radius_mean fractal_dimension_mean',\n",
       " 'radius_mean radius_se',\n",
       " 'radius_mean texture_se',\n",
       " 'radius_mean perimeter_se',\n",
       " 'radius_mean area_se',\n",
       " 'radius_mean smoothness_se',\n",
       " 'radius_mean compactness_se',\n",
       " 'radius_mean concavity_se',\n",
       " 'radius_mean concave points_se',\n",
       " 'radius_mean symmetry_se',\n",
       " 'radius_mean fractal_dimension_se',\n",
       " 'radius_mean radius_worst',\n",
       " 'radius_mean texture_worst',\n",
       " 'radius_mean perimeter_worst',\n",
       " 'radius_mean area_worst',\n",
       " 'radius_mean smoothness_worst',\n",
       " 'radius_mean compactness_worst',\n",
       " 'radius_mean concavity_worst',\n",
       " 'radius_mean concave points_worst',\n",
       " 'radius_mean symmetry_worst',\n",
       " 'radius_mean fractal_dimension_worst',\n",
       " 'texture_mean^2',\n",
       " 'texture_mean perimeter_mean',\n",
       " 'texture_mean area_mean',\n",
       " 'texture_mean smoothness_mean',\n",
       " 'texture_mean compactness_mean',\n",
       " 'texture_mean concavity_mean',\n",
       " 'texture_mean concave points_mean',\n",
       " 'texture_mean symmetry_mean',\n",
       " 'texture_mean fractal_dimension_mean',\n",
       " 'texture_mean radius_se',\n",
       " 'texture_mean texture_se',\n",
       " 'texture_mean perimeter_se',\n",
       " 'texture_mean area_se',\n",
       " 'texture_mean smoothness_se',\n",
       " 'texture_mean compactness_se',\n",
       " 'texture_mean concavity_se',\n",
       " 'texture_mean concave points_se',\n",
       " 'texture_mean symmetry_se',\n",
       " 'texture_mean fractal_dimension_se',\n",
       " 'texture_mean radius_worst',\n",
       " 'texture_mean texture_worst',\n",
       " 'texture_mean perimeter_worst',\n",
       " 'texture_mean area_worst',\n",
       " 'texture_mean smoothness_worst',\n",
       " 'texture_mean compactness_worst',\n",
       " 'texture_mean concavity_worst',\n",
       " 'texture_mean concave points_worst',\n",
       " 'texture_mean symmetry_worst',\n",
       " 'texture_mean fractal_dimension_worst',\n",
       " 'perimeter_mean^2',\n",
       " 'perimeter_mean area_mean',\n",
       " 'perimeter_mean smoothness_mean',\n",
       " 'perimeter_mean compactness_mean',\n",
       " 'perimeter_mean concavity_mean',\n",
       " 'perimeter_mean concave points_mean',\n",
       " 'perimeter_mean symmetry_mean',\n",
       " 'perimeter_mean fractal_dimension_mean',\n",
       " 'perimeter_mean radius_se',\n",
       " 'perimeter_mean texture_se',\n",
       " 'perimeter_mean perimeter_se',\n",
       " 'perimeter_mean area_se',\n",
       " 'perimeter_mean smoothness_se',\n",
       " 'perimeter_mean compactness_se',\n",
       " 'perimeter_mean concavity_se',\n",
       " 'perimeter_mean concave points_se',\n",
       " 'perimeter_mean symmetry_se',\n",
       " 'perimeter_mean fractal_dimension_se',\n",
       " 'perimeter_mean radius_worst',\n",
       " 'perimeter_mean texture_worst',\n",
       " 'perimeter_mean perimeter_worst',\n",
       " 'perimeter_mean area_worst',\n",
       " 'perimeter_mean smoothness_worst',\n",
       " 'perimeter_mean compactness_worst',\n",
       " 'perimeter_mean concavity_worst',\n",
       " 'perimeter_mean concave points_worst',\n",
       " 'perimeter_mean symmetry_worst',\n",
       " 'perimeter_mean fractal_dimension_worst',\n",
       " 'area_mean^2',\n",
       " 'area_mean smoothness_mean',\n",
       " 'area_mean compactness_mean',\n",
       " 'area_mean concavity_mean',\n",
       " 'area_mean concave points_mean',\n",
       " 'area_mean symmetry_mean',\n",
       " 'area_mean fractal_dimension_mean',\n",
       " 'area_mean radius_se',\n",
       " 'area_mean texture_se',\n",
       " 'area_mean perimeter_se',\n",
       " 'area_mean area_se',\n",
       " 'area_mean smoothness_se',\n",
       " 'area_mean compactness_se',\n",
       " 'area_mean concavity_se',\n",
       " 'area_mean concave points_se',\n",
       " 'area_mean symmetry_se',\n",
       " 'area_mean fractal_dimension_se',\n",
       " 'area_mean radius_worst',\n",
       " 'area_mean texture_worst',\n",
       " 'area_mean perimeter_worst',\n",
       " 'area_mean area_worst',\n",
       " 'area_mean smoothness_worst',\n",
       " 'area_mean compactness_worst',\n",
       " 'area_mean concavity_worst',\n",
       " 'area_mean concave points_worst',\n",
       " 'area_mean symmetry_worst',\n",
       " 'area_mean fractal_dimension_worst',\n",
       " 'smoothness_mean^2',\n",
       " 'smoothness_mean compactness_mean',\n",
       " 'smoothness_mean concavity_mean',\n",
       " 'smoothness_mean concave points_mean',\n",
       " 'smoothness_mean symmetry_mean',\n",
       " 'smoothness_mean fractal_dimension_mean',\n",
       " 'smoothness_mean radius_se',\n",
       " 'smoothness_mean texture_se',\n",
       " 'smoothness_mean perimeter_se',\n",
       " 'smoothness_mean area_se',\n",
       " 'smoothness_mean smoothness_se',\n",
       " 'smoothness_mean compactness_se',\n",
       " 'smoothness_mean concavity_se',\n",
       " 'smoothness_mean concave points_se',\n",
       " 'smoothness_mean symmetry_se',\n",
       " 'smoothness_mean fractal_dimension_se',\n",
       " 'smoothness_mean radius_worst',\n",
       " 'smoothness_mean texture_worst',\n",
       " 'smoothness_mean perimeter_worst',\n",
       " 'smoothness_mean area_worst',\n",
       " 'smoothness_mean smoothness_worst',\n",
       " 'smoothness_mean compactness_worst',\n",
       " 'smoothness_mean concavity_worst',\n",
       " 'smoothness_mean concave points_worst',\n",
       " 'smoothness_mean symmetry_worst',\n",
       " 'smoothness_mean fractal_dimension_worst',\n",
       " 'compactness_mean^2',\n",
       " 'compactness_mean concavity_mean',\n",
       " 'compactness_mean concave points_mean',\n",
       " 'compactness_mean symmetry_mean',\n",
       " 'compactness_mean fractal_dimension_mean',\n",
       " 'compactness_mean radius_se',\n",
       " 'compactness_mean texture_se',\n",
       " 'compactness_mean perimeter_se',\n",
       " 'compactness_mean area_se',\n",
       " 'compactness_mean smoothness_se',\n",
       " 'compactness_mean compactness_se',\n",
       " 'compactness_mean concavity_se',\n",
       " 'compactness_mean concave points_se',\n",
       " 'compactness_mean symmetry_se',\n",
       " 'compactness_mean fractal_dimension_se',\n",
       " 'compactness_mean radius_worst',\n",
       " 'compactness_mean texture_worst',\n",
       " 'compactness_mean perimeter_worst',\n",
       " 'compactness_mean area_worst',\n",
       " 'compactness_mean smoothness_worst',\n",
       " 'compactness_mean compactness_worst',\n",
       " 'compactness_mean concavity_worst',\n",
       " 'compactness_mean concave points_worst',\n",
       " 'compactness_mean symmetry_worst',\n",
       " 'compactness_mean fractal_dimension_worst',\n",
       " 'concavity_mean^2',\n",
       " 'concavity_mean concave points_mean',\n",
       " 'concavity_mean symmetry_mean',\n",
       " 'concavity_mean fractal_dimension_mean',\n",
       " 'concavity_mean radius_se',\n",
       " 'concavity_mean texture_se',\n",
       " 'concavity_mean perimeter_se',\n",
       " 'concavity_mean area_se',\n",
       " 'concavity_mean smoothness_se',\n",
       " 'concavity_mean compactness_se',\n",
       " 'concavity_mean concavity_se',\n",
       " 'concavity_mean concave points_se',\n",
       " 'concavity_mean symmetry_se',\n",
       " 'concavity_mean fractal_dimension_se',\n",
       " 'concavity_mean radius_worst',\n",
       " 'concavity_mean texture_worst',\n",
       " 'concavity_mean perimeter_worst',\n",
       " 'concavity_mean area_worst',\n",
       " 'concavity_mean smoothness_worst',\n",
       " 'concavity_mean compactness_worst',\n",
       " 'concavity_mean concavity_worst',\n",
       " 'concavity_mean concave points_worst',\n",
       " 'concavity_mean symmetry_worst',\n",
       " 'concavity_mean fractal_dimension_worst',\n",
       " 'concave points_mean^2',\n",
       " 'concave points_mean symmetry_mean',\n",
       " 'concave points_mean fractal_dimension_mean',\n",
       " 'concave points_mean radius_se',\n",
       " 'concave points_mean texture_se',\n",
       " 'concave points_mean perimeter_se',\n",
       " 'concave points_mean area_se',\n",
       " 'concave points_mean smoothness_se',\n",
       " 'concave points_mean compactness_se',\n",
       " 'concave points_mean concavity_se',\n",
       " 'concave points_mean concave points_se',\n",
       " 'concave points_mean symmetry_se',\n",
       " 'concave points_mean fractal_dimension_se',\n",
       " 'concave points_mean radius_worst',\n",
       " 'concave points_mean texture_worst',\n",
       " 'concave points_mean perimeter_worst',\n",
       " 'concave points_mean area_worst',\n",
       " 'concave points_mean smoothness_worst',\n",
       " 'concave points_mean compactness_worst',\n",
       " 'concave points_mean concavity_worst',\n",
       " 'concave points_mean concave points_worst',\n",
       " 'concave points_mean symmetry_worst',\n",
       " 'concave points_mean fractal_dimension_worst',\n",
       " 'symmetry_mean^2',\n",
       " 'symmetry_mean fractal_dimension_mean',\n",
       " 'symmetry_mean radius_se',\n",
       " 'symmetry_mean texture_se',\n",
       " 'symmetry_mean perimeter_se',\n",
       " 'symmetry_mean area_se',\n",
       " 'symmetry_mean smoothness_se',\n",
       " 'symmetry_mean compactness_se',\n",
       " 'symmetry_mean concavity_se',\n",
       " 'symmetry_mean concave points_se',\n",
       " 'symmetry_mean symmetry_se',\n",
       " 'symmetry_mean fractal_dimension_se',\n",
       " 'symmetry_mean radius_worst',\n",
       " 'symmetry_mean texture_worst',\n",
       " 'symmetry_mean perimeter_worst',\n",
       " 'symmetry_mean area_worst',\n",
       " 'symmetry_mean smoothness_worst',\n",
       " 'symmetry_mean compactness_worst',\n",
       " 'symmetry_mean concavity_worst',\n",
       " 'symmetry_mean concave points_worst',\n",
       " 'symmetry_mean symmetry_worst',\n",
       " 'symmetry_mean fractal_dimension_worst',\n",
       " 'fractal_dimension_mean^2',\n",
       " 'fractal_dimension_mean radius_se',\n",
       " 'fractal_dimension_mean texture_se',\n",
       " 'fractal_dimension_mean perimeter_se',\n",
       " 'fractal_dimension_mean area_se',\n",
       " 'fractal_dimension_mean smoothness_se',\n",
       " 'fractal_dimension_mean compactness_se',\n",
       " 'fractal_dimension_mean concavity_se',\n",
       " 'fractal_dimension_mean concave points_se',\n",
       " 'fractal_dimension_mean symmetry_se',\n",
       " 'fractal_dimension_mean fractal_dimension_se',\n",
       " 'fractal_dimension_mean radius_worst',\n",
       " 'fractal_dimension_mean texture_worst',\n",
       " 'fractal_dimension_mean perimeter_worst',\n",
       " 'fractal_dimension_mean area_worst',\n",
       " 'fractal_dimension_mean smoothness_worst',\n",
       " 'fractal_dimension_mean compactness_worst',\n",
       " 'fractal_dimension_mean concavity_worst',\n",
       " 'fractal_dimension_mean concave points_worst',\n",
       " 'fractal_dimension_mean symmetry_worst',\n",
       " 'fractal_dimension_mean fractal_dimension_worst',\n",
       " 'radius_se^2',\n",
       " 'radius_se texture_se',\n",
       " 'radius_se perimeter_se',\n",
       " 'radius_se area_se',\n",
       " 'radius_se smoothness_se',\n",
       " 'radius_se compactness_se',\n",
       " 'radius_se concavity_se',\n",
       " 'radius_se concave points_se',\n",
       " 'radius_se symmetry_se',\n",
       " 'radius_se fractal_dimension_se',\n",
       " 'radius_se radius_worst',\n",
       " 'radius_se texture_worst',\n",
       " 'radius_se perimeter_worst',\n",
       " 'radius_se area_worst',\n",
       " 'radius_se smoothness_worst',\n",
       " 'radius_se compactness_worst',\n",
       " 'radius_se concavity_worst',\n",
       " 'radius_se concave points_worst',\n",
       " 'radius_se symmetry_worst',\n",
       " 'radius_se fractal_dimension_worst',\n",
       " 'texture_se^2',\n",
       " 'texture_se perimeter_se',\n",
       " 'texture_se area_se',\n",
       " 'texture_se smoothness_se',\n",
       " 'texture_se compactness_se',\n",
       " 'texture_se concavity_se',\n",
       " 'texture_se concave points_se',\n",
       " 'texture_se symmetry_se',\n",
       " 'texture_se fractal_dimension_se',\n",
       " 'texture_se radius_worst',\n",
       " 'texture_se texture_worst',\n",
       " 'texture_se perimeter_worst',\n",
       " 'texture_se area_worst',\n",
       " 'texture_se smoothness_worst',\n",
       " 'texture_se compactness_worst',\n",
       " 'texture_se concavity_worst',\n",
       " 'texture_se concave points_worst',\n",
       " 'texture_se symmetry_worst',\n",
       " 'texture_se fractal_dimension_worst',\n",
       " 'perimeter_se^2',\n",
       " 'perimeter_se area_se',\n",
       " 'perimeter_se smoothness_se',\n",
       " 'perimeter_se compactness_se',\n",
       " 'perimeter_se concavity_se',\n",
       " 'perimeter_se concave points_se',\n",
       " 'perimeter_se symmetry_se',\n",
       " 'perimeter_se fractal_dimension_se',\n",
       " 'perimeter_se radius_worst',\n",
       " 'perimeter_se texture_worst',\n",
       " 'perimeter_se perimeter_worst',\n",
       " 'perimeter_se area_worst',\n",
       " 'perimeter_se smoothness_worst',\n",
       " 'perimeter_se compactness_worst',\n",
       " 'perimeter_se concavity_worst',\n",
       " 'perimeter_se concave points_worst',\n",
       " 'perimeter_se symmetry_worst',\n",
       " 'perimeter_se fractal_dimension_worst',\n",
       " 'area_se^2',\n",
       " 'area_se smoothness_se',\n",
       " 'area_se compactness_se',\n",
       " 'area_se concavity_se',\n",
       " 'area_se concave points_se',\n",
       " 'area_se symmetry_se',\n",
       " 'area_se fractal_dimension_se',\n",
       " 'area_se radius_worst',\n",
       " 'area_se texture_worst',\n",
       " 'area_se perimeter_worst',\n",
       " 'area_se area_worst',\n",
       " 'area_se smoothness_worst',\n",
       " 'area_se compactness_worst',\n",
       " 'area_se concavity_worst',\n",
       " 'area_se concave points_worst',\n",
       " 'area_se symmetry_worst',\n",
       " 'area_se fractal_dimension_worst',\n",
       " 'smoothness_se^2',\n",
       " 'smoothness_se compactness_se',\n",
       " 'smoothness_se concavity_se',\n",
       " 'smoothness_se concave points_se',\n",
       " 'smoothness_se symmetry_se',\n",
       " 'smoothness_se fractal_dimension_se',\n",
       " 'smoothness_se radius_worst',\n",
       " 'smoothness_se texture_worst',\n",
       " 'smoothness_se perimeter_worst',\n",
       " 'smoothness_se area_worst',\n",
       " 'smoothness_se smoothness_worst',\n",
       " 'smoothness_se compactness_worst',\n",
       " 'smoothness_se concavity_worst',\n",
       " 'smoothness_se concave points_worst',\n",
       " 'smoothness_se symmetry_worst',\n",
       " 'smoothness_se fractal_dimension_worst',\n",
       " 'compactness_se^2',\n",
       " 'compactness_se concavity_se',\n",
       " 'compactness_se concave points_se',\n",
       " 'compactness_se symmetry_se',\n",
       " 'compactness_se fractal_dimension_se',\n",
       " 'compactness_se radius_worst',\n",
       " 'compactness_se texture_worst',\n",
       " 'compactness_se perimeter_worst',\n",
       " 'compactness_se area_worst',\n",
       " 'compactness_se smoothness_worst',\n",
       " 'compactness_se compactness_worst',\n",
       " 'compactness_se concavity_worst',\n",
       " 'compactness_se concave points_worst',\n",
       " 'compactness_se symmetry_worst',\n",
       " 'compactness_se fractal_dimension_worst',\n",
       " 'concavity_se^2',\n",
       " 'concavity_se concave points_se',\n",
       " 'concavity_se symmetry_se',\n",
       " 'concavity_se fractal_dimension_se',\n",
       " 'concavity_se radius_worst',\n",
       " 'concavity_se texture_worst',\n",
       " 'concavity_se perimeter_worst',\n",
       " 'concavity_se area_worst',\n",
       " 'concavity_se smoothness_worst',\n",
       " 'concavity_se compactness_worst',\n",
       " 'concavity_se concavity_worst',\n",
       " 'concavity_se concave points_worst',\n",
       " 'concavity_se symmetry_worst',\n",
       " 'concavity_se fractal_dimension_worst',\n",
       " 'concave points_se^2',\n",
       " 'concave points_se symmetry_se',\n",
       " 'concave points_se fractal_dimension_se',\n",
       " 'concave points_se radius_worst',\n",
       " 'concave points_se texture_worst',\n",
       " 'concave points_se perimeter_worst',\n",
       " 'concave points_se area_worst',\n",
       " 'concave points_se smoothness_worst',\n",
       " 'concave points_se compactness_worst',\n",
       " 'concave points_se concavity_worst',\n",
       " 'concave points_se concave points_worst',\n",
       " 'concave points_se symmetry_worst',\n",
       " 'concave points_se fractal_dimension_worst',\n",
       " 'symmetry_se^2',\n",
       " 'symmetry_se fractal_dimension_se',\n",
       " 'symmetry_se radius_worst',\n",
       " 'symmetry_se texture_worst',\n",
       " 'symmetry_se perimeter_worst',\n",
       " 'symmetry_se area_worst',\n",
       " 'symmetry_se smoothness_worst',\n",
       " 'symmetry_se compactness_worst',\n",
       " 'symmetry_se concavity_worst',\n",
       " 'symmetry_se concave points_worst',\n",
       " 'symmetry_se symmetry_worst',\n",
       " 'symmetry_se fractal_dimension_worst',\n",
       " 'fractal_dimension_se^2',\n",
       " 'fractal_dimension_se radius_worst',\n",
       " 'fractal_dimension_se texture_worst',\n",
       " 'fractal_dimension_se perimeter_worst',\n",
       " 'fractal_dimension_se area_worst',\n",
       " 'fractal_dimension_se smoothness_worst',\n",
       " 'fractal_dimension_se compactness_worst',\n",
       " 'fractal_dimension_se concavity_worst',\n",
       " 'fractal_dimension_se concave points_worst',\n",
       " 'fractal_dimension_se symmetry_worst',\n",
       " 'fractal_dimension_se fractal_dimension_worst',\n",
       " 'radius_worst^2',\n",
       " 'radius_worst texture_worst',\n",
       " 'radius_worst perimeter_worst',\n",
       " 'radius_worst area_worst',\n",
       " 'radius_worst smoothness_worst',\n",
       " 'radius_worst compactness_worst',\n",
       " 'radius_worst concavity_worst',\n",
       " 'radius_worst concave points_worst',\n",
       " 'radius_worst symmetry_worst',\n",
       " 'radius_worst fractal_dimension_worst',\n",
       " 'texture_worst^2',\n",
       " 'texture_worst perimeter_worst',\n",
       " 'texture_worst area_worst',\n",
       " 'texture_worst smoothness_worst',\n",
       " 'texture_worst compactness_worst',\n",
       " 'texture_worst concavity_worst',\n",
       " 'texture_worst concave points_worst',\n",
       " 'texture_worst symmetry_worst',\n",
       " 'texture_worst fractal_dimension_worst',\n",
       " 'perimeter_worst^2',\n",
       " 'perimeter_worst area_worst',\n",
       " 'perimeter_worst smoothness_worst',\n",
       " 'perimeter_worst compactness_worst',\n",
       " 'perimeter_worst concavity_worst',\n",
       " 'perimeter_worst concave points_worst',\n",
       " 'perimeter_worst symmetry_worst',\n",
       " 'perimeter_worst fractal_dimension_worst',\n",
       " 'area_worst^2',\n",
       " 'area_worst smoothness_worst',\n",
       " 'area_worst compactness_worst',\n",
       " 'area_worst concavity_worst',\n",
       " 'area_worst concave points_worst',\n",
       " 'area_worst symmetry_worst',\n",
       " 'area_worst fractal_dimension_worst',\n",
       " 'smoothness_worst^2',\n",
       " 'smoothness_worst compactness_worst',\n",
       " 'smoothness_worst concavity_worst',\n",
       " 'smoothness_worst concave points_worst',\n",
       " 'smoothness_worst symmetry_worst',\n",
       " 'smoothness_worst fractal_dimension_worst',\n",
       " 'compactness_worst^2',\n",
       " 'compactness_worst concavity_worst',\n",
       " 'compactness_worst concave points_worst',\n",
       " 'compactness_worst symmetry_worst',\n",
       " 'compactness_worst fractal_dimension_worst',\n",
       " 'concavity_worst^2',\n",
       " 'concavity_worst concave points_worst',\n",
       " 'concavity_worst symmetry_worst',\n",
       " 'concavity_worst fractal_dimension_worst',\n",
       " 'concave points_worst^2',\n",
       " 'concave points_worst symmetry_worst',\n",
       " 'concave points_worst fractal_dimension_worst',\n",
       " 'symmetry_worst^2',\n",
       " 'symmetry_worst fractal_dimension_worst',\n",
       " 'fractal_dimension_worst^2']"
      ]
     },
     "execution_count": 50,
     "metadata": {},
     "output_type": "execute_result"
    }
   ],
   "source": [
    "# Get the names of the polynomial features\n",
    "poly_feature_names = poly.get_feature_names(feature_names)\n",
    "poly_feature_names"
   ]
  },
  {
   "cell_type": "code",
   "execution_count": 53,
   "metadata": {},
   "outputs": [
    {
     "data": {
      "text/html": [
       "<div>\n",
       "<style scoped>\n",
       "    .dataframe tbody tr th:only-of-type {\n",
       "        vertical-align: middle;\n",
       "    }\n",
       "\n",
       "    .dataframe tbody tr th {\n",
       "        vertical-align: top;\n",
       "    }\n",
       "\n",
       "    .dataframe thead th {\n",
       "        text-align: right;\n",
       "    }\n",
       "</style>\n",
       "<table border=\"1\" class=\"dataframe\">\n",
       "  <thead>\n",
       "    <tr style=\"text-align: right;\">\n",
       "      <th></th>\n",
       "      <th>radius_mean</th>\n",
       "      <th>texture_mean</th>\n",
       "      <th>perimeter_mean</th>\n",
       "      <th>area_mean</th>\n",
       "      <th>smoothness_mean</th>\n",
       "      <th>compactness_mean</th>\n",
       "      <th>concavity_mean</th>\n",
       "      <th>concave points_mean</th>\n",
       "      <th>symmetry_mean</th>\n",
       "      <th>fractal_dimension_mean</th>\n",
       "      <th>...</th>\n",
       "      <th>concavity_worst^2</th>\n",
       "      <th>concavity_worst concave points_worst</th>\n",
       "      <th>concavity_worst symmetry_worst</th>\n",
       "      <th>concavity_worst fractal_dimension_worst</th>\n",
       "      <th>concave points_worst^2</th>\n",
       "      <th>concave points_worst symmetry_worst</th>\n",
       "      <th>concave points_worst fractal_dimension_worst</th>\n",
       "      <th>symmetry_worst^2</th>\n",
       "      <th>symmetry_worst fractal_dimension_worst</th>\n",
       "      <th>fractal_dimension_worst^2</th>\n",
       "    </tr>\n",
       "  </thead>\n",
       "  <tbody>\n",
       "    <tr>\n",
       "      <th>0</th>\n",
       "      <td>-0.349138</td>\n",
       "      <td>-1.438513</td>\n",
       "      <td>-0.411726</td>\n",
       "      <td>-0.390479</td>\n",
       "      <td>-1.863662</td>\n",
       "      <td>-1.268607</td>\n",
       "      <td>-0.826171</td>\n",
       "      <td>-0.952866</td>\n",
       "      <td>-1.729368</td>\n",
       "      <td>-0.941541</td>\n",
       "      <td>...</td>\n",
       "      <td>-0.266291</td>\n",
       "      <td>-0.115618</td>\n",
       "      <td>0.163365</td>\n",
       "      <td>-0.013943</td>\n",
       "      <td>-0.086710</td>\n",
       "      <td>0.303120</td>\n",
       "      <td>0.271154</td>\n",
       "      <td>-0.028055</td>\n",
       "      <td>0.149402</td>\n",
       "      <td>-0.140301</td>\n",
       "    </tr>\n",
       "    <tr>\n",
       "      <th>1</th>\n",
       "      <td>-0.204687</td>\n",
       "      <td>0.312640</td>\n",
       "      <td>-0.133673</td>\n",
       "      <td>-0.275880</td>\n",
       "      <td>1.078073</td>\n",
       "      <td>0.863546</td>\n",
       "      <td>0.726314</td>\n",
       "      <td>0.898441</td>\n",
       "      <td>1.178770</td>\n",
       "      <td>1.474377</td>\n",
       "      <td>...</td>\n",
       "      <td>0.289607</td>\n",
       "      <td>0.712354</td>\n",
       "      <td>0.617511</td>\n",
       "      <td>0.843391</td>\n",
       "      <td>0.814184</td>\n",
       "      <td>0.823993</td>\n",
       "      <td>1.513268</td>\n",
       "      <td>0.087613</td>\n",
       "      <td>0.620103</td>\n",
       "      <td>0.652708</td>\n",
       "    </tr>\n",
       "    <tr>\n",
       "      <th>2</th>\n",
       "      <td>-0.329312</td>\n",
       "      <td>-0.215072</td>\n",
       "      <td>-0.317394</td>\n",
       "      <td>-0.364357</td>\n",
       "      <td>-1.579880</td>\n",
       "      <td>-0.457451</td>\n",
       "      <td>-0.597310</td>\n",
       "      <td>-0.764588</td>\n",
       "      <td>0.275343</td>\n",
       "      <td>-0.501024</td>\n",
       "      <td>...</td>\n",
       "      <td>-0.451745</td>\n",
       "      <td>-0.382430</td>\n",
       "      <td>-0.623173</td>\n",
       "      <td>-0.218198</td>\n",
       "      <td>-0.360449</td>\n",
       "      <td>-0.722851</td>\n",
       "      <td>-0.007471</td>\n",
       "      <td>-0.279345</td>\n",
       "      <td>-0.446760</td>\n",
       "      <td>-0.276561</td>\n",
       "    </tr>\n",
       "    <tr>\n",
       "      <th>3</th>\n",
       "      <td>1.027403</td>\n",
       "      <td>2.089824</td>\n",
       "      <td>1.046922</td>\n",
       "      <td>0.917584</td>\n",
       "      <td>0.316303</td>\n",
       "      <td>0.562037</td>\n",
       "      <td>1.048527</td>\n",
       "      <td>0.930437</td>\n",
       "      <td>-0.325697</td>\n",
       "      <td>-0.477474</td>\n",
       "      <td>...</td>\n",
       "      <td>1.599859</td>\n",
       "      <td>1.303627</td>\n",
       "      <td>-0.243286</td>\n",
       "      <td>0.033428</td>\n",
       "      <td>0.532242</td>\n",
       "      <td>-0.305200</td>\n",
       "      <td>-0.004446</td>\n",
       "      <td>-0.366290</td>\n",
       "      <td>-0.252451</td>\n",
       "      <td>-0.409972</td>\n",
       "    </tr>\n",
       "    <tr>\n",
       "      <th>4</th>\n",
       "      <td>1.828969</td>\n",
       "      <td>0.696001</td>\n",
       "      <td>1.763681</td>\n",
       "      <td>1.783821</td>\n",
       "      <td>-0.333674</td>\n",
       "      <td>0.628175</td>\n",
       "      <td>0.974660</td>\n",
       "      <td>1.265740</td>\n",
       "      <td>-0.131572</td>\n",
       "      <td>-1.713139</td>\n",
       "      <td>...</td>\n",
       "      <td>-0.443734</td>\n",
       "      <td>-0.152535</td>\n",
       "      <td>-0.402064</td>\n",
       "      <td>-1.077726</td>\n",
       "      <td>0.371391</td>\n",
       "      <td>-0.410605</td>\n",
       "      <td>-2.039061</td>\n",
       "      <td>-0.371198</td>\n",
       "      <td>-0.286137</td>\n",
       "      <td>0.517341</td>\n",
       "    </tr>\n",
       "  </tbody>\n",
       "</table>\n",
       "<p>5 rows × 495 columns</p>\n",
       "</div>"
      ],
      "text/plain": [
       "   radius_mean  texture_mean  perimeter_mean  area_mean  smoothness_mean  \\\n",
       "0    -0.349138     -1.438513       -0.411726  -0.390479        -1.863662   \n",
       "1    -0.204687      0.312640       -0.133673  -0.275880         1.078073   \n",
       "2    -0.329312     -0.215072       -0.317394  -0.364357        -1.579880   \n",
       "3     1.027403      2.089824        1.046922   0.917584         0.316303   \n",
       "4     1.828969      0.696001        1.763681   1.783821        -0.333674   \n",
       "\n",
       "   compactness_mean  concavity_mean  concave points_mean  symmetry_mean  \\\n",
       "0         -1.268607       -0.826171            -0.952866      -1.729368   \n",
       "1          0.863546        0.726314             0.898441       1.178770   \n",
       "2         -0.457451       -0.597310            -0.764588       0.275343   \n",
       "3          0.562037        1.048527             0.930437      -0.325697   \n",
       "4          0.628175        0.974660             1.265740      -0.131572   \n",
       "\n",
       "   fractal_dimension_mean  ...  concavity_worst^2  \\\n",
       "0               -0.941541  ...          -0.266291   \n",
       "1                1.474377  ...           0.289607   \n",
       "2               -0.501024  ...          -0.451745   \n",
       "3               -0.477474  ...           1.599859   \n",
       "4               -1.713139  ...          -0.443734   \n",
       "\n",
       "   concavity_worst concave points_worst  concavity_worst symmetry_worst  \\\n",
       "0                             -0.115618                        0.163365   \n",
       "1                              0.712354                        0.617511   \n",
       "2                             -0.382430                       -0.623173   \n",
       "3                              1.303627                       -0.243286   \n",
       "4                             -0.152535                       -0.402064   \n",
       "\n",
       "   concavity_worst fractal_dimension_worst  concave points_worst^2  \\\n",
       "0                                -0.013943               -0.086710   \n",
       "1                                 0.843391                0.814184   \n",
       "2                                -0.218198               -0.360449   \n",
       "3                                 0.033428                0.532242   \n",
       "4                                -1.077726                0.371391   \n",
       "\n",
       "   concave points_worst symmetry_worst  \\\n",
       "0                             0.303120   \n",
       "1                             0.823993   \n",
       "2                            -0.722851   \n",
       "3                            -0.305200   \n",
       "4                            -0.410605   \n",
       "\n",
       "   concave points_worst fractal_dimension_worst  symmetry_worst^2  \\\n",
       "0                                      0.271154         -0.028055   \n",
       "1                                      1.513268          0.087613   \n",
       "2                                     -0.007471         -0.279345   \n",
       "3                                     -0.004446         -0.366290   \n",
       "4                                     -2.039061         -0.371198   \n",
       "\n",
       "   symmetry_worst fractal_dimension_worst  fractal_dimension_worst^2  \n",
       "0                                0.149402                  -0.140301  \n",
       "1                                0.620103                   0.652708  \n",
       "2                               -0.446760                  -0.276561  \n",
       "3                               -0.252451                  -0.409972  \n",
       "4                               -0.286137                   0.517341  \n",
       "\n",
       "[5 rows x 495 columns]"
      ]
     },
     "execution_count": 53,
     "metadata": {},
     "output_type": "execute_result"
    }
   ],
   "source": [
    "# Create a DataFrame to view the polynomial features\n",
    "X_train_poly_df = pd.DataFrame(X_train_poly, columns=poly_feature_names)\n",
    "X_train_poly_df.head()"
   ]
  },
  {
   "cell_type": "code",
   "execution_count": 54,
   "metadata": {},
   "outputs": [],
   "source": [
    "# Coefficients of the logistic regression model\n",
    "coefficients = lg.coef_[0]"
   ]
  },
  {
   "cell_type": "code",
   "execution_count": 55,
   "metadata": {},
   "outputs": [],
   "source": [
    "# Combine feature names and their corresponding coefficients\n",
    "feature_importance = pd.DataFrame({\n",
    "    'Feature': poly_feature_names,\n",
    "    'Coefficient': coefficients\n",
    "})"
   ]
  },
  {
   "cell_type": "code",
   "execution_count": 58,
   "metadata": {},
   "outputs": [],
   "source": [
    "# Sort by absolute value of the coefficient\n",
    "feature_importance['Importance'] = np.abs(feature_importance['Coefficient'])\n",
    "feature_importance.sort_values(by='Importance', ascending=False, inplace=True)"
   ]
  },
  {
   "cell_type": "code",
   "execution_count": 60,
   "metadata": {},
   "outputs": [
    {
     "data": {
      "text/html": [
       "<div>\n",
       "<style scoped>\n",
       "    .dataframe tbody tr th:only-of-type {\n",
       "        vertical-align: middle;\n",
       "    }\n",
       "\n",
       "    .dataframe tbody tr th {\n",
       "        vertical-align: top;\n",
       "    }\n",
       "\n",
       "    .dataframe thead th {\n",
       "        text-align: right;\n",
       "    }\n",
       "</style>\n",
       "<table border=\"1\" class=\"dataframe\">\n",
       "  <thead>\n",
       "    <tr style=\"text-align: right;\">\n",
       "      <th></th>\n",
       "      <th>Feature</th>\n",
       "      <th>Coefficient</th>\n",
       "      <th>Importance</th>\n",
       "    </tr>\n",
       "  </thead>\n",
       "  <tbody>\n",
       "    <tr>\n",
       "      <th>21</th>\n",
       "      <td>texture_worst</td>\n",
       "      <td>1.124504</td>\n",
       "      <td>1.124504</td>\n",
       "    </tr>\n",
       "    <tr>\n",
       "      <th>26</th>\n",
       "      <td>concavity_worst</td>\n",
       "      <td>0.889373</td>\n",
       "      <td>0.889373</td>\n",
       "    </tr>\n",
       "    <tr>\n",
       "      <th>20</th>\n",
       "      <td>radius_worst</td>\n",
       "      <td>0.863021</td>\n",
       "      <td>0.863021</td>\n",
       "    </tr>\n",
       "    <tr>\n",
       "      <th>27</th>\n",
       "      <td>concave points_worst</td>\n",
       "      <td>0.848735</td>\n",
       "      <td>0.848735</td>\n",
       "    </tr>\n",
       "    <tr>\n",
       "      <th>7</th>\n",
       "      <td>concave points_mean</td>\n",
       "      <td>0.803998</td>\n",
       "      <td>0.803998</td>\n",
       "    </tr>\n",
       "    <tr>\n",
       "      <th>23</th>\n",
       "      <td>area_worst</td>\n",
       "      <td>0.795675</td>\n",
       "      <td>0.795675</td>\n",
       "    </tr>\n",
       "    <tr>\n",
       "      <th>22</th>\n",
       "      <td>perimeter_worst</td>\n",
       "      <td>0.691173</td>\n",
       "      <td>0.691173</td>\n",
       "    </tr>\n",
       "    <tr>\n",
       "      <th>24</th>\n",
       "      <td>smoothness_worst</td>\n",
       "      <td>0.690765</td>\n",
       "      <td>0.690765</td>\n",
       "    </tr>\n",
       "    <tr>\n",
       "      <th>15</th>\n",
       "      <td>compactness_se</td>\n",
       "      <td>-0.640389</td>\n",
       "      <td>0.640389</td>\n",
       "    </tr>\n",
       "    <tr>\n",
       "      <th>1</th>\n",
       "      <td>texture_mean</td>\n",
       "      <td>0.639375</td>\n",
       "      <td>0.639375</td>\n",
       "    </tr>\n",
       "    <tr>\n",
       "      <th>18</th>\n",
       "      <td>symmetry_se</td>\n",
       "      <td>-0.634214</td>\n",
       "      <td>0.634214</td>\n",
       "    </tr>\n",
       "    <tr>\n",
       "      <th>6</th>\n",
       "      <td>concavity_mean</td>\n",
       "      <td>0.633679</td>\n",
       "      <td>0.633679</td>\n",
       "    </tr>\n",
       "    <tr>\n",
       "      <th>10</th>\n",
       "      <td>radius_se</td>\n",
       "      <td>0.592835</td>\n",
       "      <td>0.592835</td>\n",
       "    </tr>\n",
       "    <tr>\n",
       "      <th>0</th>\n",
       "      <td>radius_mean</td>\n",
       "      <td>0.519386</td>\n",
       "      <td>0.519386</td>\n",
       "    </tr>\n",
       "    <tr>\n",
       "      <th>13</th>\n",
       "      <td>area_se</td>\n",
       "      <td>0.509549</td>\n",
       "      <td>0.509549</td>\n",
       "    </tr>\n",
       "  </tbody>\n",
       "</table>\n",
       "</div>"
      ],
      "text/plain": [
       "                 Feature  Coefficient  Importance\n",
       "21         texture_worst     1.124504    1.124504\n",
       "26       concavity_worst     0.889373    0.889373\n",
       "20          radius_worst     0.863021    0.863021\n",
       "27  concave points_worst     0.848735    0.848735\n",
       "7    concave points_mean     0.803998    0.803998\n",
       "23            area_worst     0.795675    0.795675\n",
       "22       perimeter_worst     0.691173    0.691173\n",
       "24      smoothness_worst     0.690765    0.690765\n",
       "15        compactness_se    -0.640389    0.640389\n",
       "1           texture_mean     0.639375    0.639375\n",
       "18           symmetry_se    -0.634214    0.634214\n",
       "6         concavity_mean     0.633679    0.633679\n",
       "10             radius_se     0.592835    0.592835\n",
       "0            radius_mean     0.519386    0.519386\n",
       "13               area_se     0.509549    0.509549"
      ]
     },
     "execution_count": 60,
     "metadata": {},
     "output_type": "execute_result"
    }
   ],
   "source": [
    "# Display the top features\n",
    "feature_importance.head(15)"
   ]
  },
  {
   "cell_type": "markdown",
   "metadata": {},
   "source": [
    "- The addition of polynomial features allows the logistic regression model to better capture non-linear patterns in the data, potentially leading to improved classification performance."
   ]
  },
  {
   "cell_type": "markdown",
   "metadata": {},
   "source": [
    "### VISUALIZATIONS"
   ]
  },
  {
   "cell_type": "markdown",
   "metadata": {},
   "source": [
    "**selecting features to use for visualization**"
   ]
  },
  {
   "cell_type": "code",
   "execution_count": 65,
   "metadata": {},
   "outputs": [],
   "source": [
    "Top_features = ['texture_worst', 'concavity_worst', 'radius_worst', 'concave points_worst', 'concave points_mean', 'area_worst', 'perimeter_worst', 'smoothness_worst', 'compactness_se', 'texture_mean', 'symmetry_se', 'concavity_mean', 'radius_se', 'radius_mean', 'area_se']"
   ]
  },
  {
   "cell_type": "markdown",
   "metadata": {},
   "source": [
    "1. **Correlation Heatmap**"
   ]
  },
  {
   "cell_type": "markdown",
   "metadata": {},
   "source": [
    "The heatmap below illustrates the correlation between different features in the dataset. Strongly correlated features can provide insights into the relationships between variables and help in feature selection."
   ]
  },
  {
   "cell_type": "code",
   "execution_count": 70,
   "metadata": {},
   "outputs": [
    {
     "data": {
      "image/png": "[encoded data removed]",
      "text/plain": [
       "<Figure size 1008x864 with 2 Axes>"
      ]
     },
     "metadata": {
      "needs_background": "light"
     },
     "output_type": "display_data"
    }
   ],
   "source": [
    "# Correlation heatmap to understand relationships between features\n",
    "plt.figure(figsize=(14, 12))\n",
    "sns.heatmap(df[Top_features].corr(), annot=True, square=True, cmap='coolwarm', fmt= '.0g')\n",
    "plt.title('Correlation Heatmap of Features')\n",
    "plt.show()"
   ]
  },
  {
   "cell_type": "markdown",
   "metadata": {},
   "source": [
    "2. **Pair Plot of Selected Features**"
   ]
  },
  {
   "cell_type": "markdown",
   "metadata": {},
   "source": [
    "The pair plot below shows the relationships between selected features (`mean_radius`, `mean_texture`, `mean_perimeter`, `mean_area`) and the target variable (`diagnosis`). This visualization helps to observe how different features differentiate benign and malignant tumors."
   ]
  },
  {
   "cell_type": "code",
   "execution_count": 67,
   "metadata": {},
   "outputs": [
    {
     "data": {
      "image/png": "[encoded data removed]",
      "text/plain": [
       "<Figure size 775.5x720 with 20 Axes>"
      ]
     },
     "metadata": {
      "needs_background": "light"
     },
     "output_type": "display_data"
    }
   ],
   "source": [
    "# Pair plot for selected features\n",
    "selected_features = ['radius_mean', 'texture_mean', 'perimeter_mean', 'area_mean', 'diagnosis']\n",
    "sns.pairplot(df[selected_features], hue='diagnosis', palette='Set2')\n",
    "plt.suptitle('Pair Plot of Selected Features', y=1.02)\n",
    "plt.show()"
   ]
  },
  {
   "cell_type": "markdown",
   "metadata": {},
   "source": [
    "3. **Distribution of Feature Values for Each Diagnosis**"
   ]
  },
  {
   "cell_type": "markdown",
   "metadata": {},
   "source": [
    "The histogram below shows the distribution of `area_mean` for benign and malignant tumors. Such plots help identify whether certain features have distinct ranges for different classes, which can aid in classification."
   ]
  },
  {
   "cell_type": "code",
   "execution_count": 35,
   "metadata": {},
   "outputs": [
    {
     "data": {
      "image/png": "[encoded data removed]",
      "text/plain": [
       "<Figure size 720x432 with 1 Axes>"
      ]
     },
     "metadata": {
      "needs_background": "light"
     },
     "output_type": "display_data"
    }
   ],
   "source": [
    "# Distribution of a selected feature based on diagnosis\n",
    "plt.figure(figsize=(10, 6))\n",
    "sns.histplot(df[df['diagnosis'] == 1]['area_mean'], color='red', label='Malignant', kde=True)\n",
    "sns.histplot(df[df['diagnosis'] == 0]['area_mean'], color='green', label='Benign', kde=True)\n",
    "plt.title('Distribution of Mean Area by Diagnosis')\n",
    "plt.xlabel('Mean Area')\n",
    "plt.ylabel('Frequency')\n",
    "plt.legend()\n",
    "plt.show()"
   ]
  },
  {
   "cell_type": "markdown",
   "metadata": {},
   "source": [
    "4. **Box Plot of Feature Values by Diagnosis**"
   ]
  },
  {
   "cell_type": "markdown",
   "metadata": {},
   "source": [
    "The box plot below compares the `radius_mean` of tumors for benign and malignant diagnoses. This type of plot is useful for understanding the spread and central tendency of feature values across different classes."
   ]
  },
  {
   "cell_type": "code",
   "execution_count": 36,
   "metadata": {},
   "outputs": [
    {
     "data": {
      "image/png": "[encoded data removed]",
      "text/plain": [
       "<Figure size 576x432 with 1 Axes>"
      ]
     },
     "metadata": {
      "needs_background": "light"
     },
     "output_type": "display_data"
    }
   ],
   "source": [
    "# Box plot for a selected feature based on diagnosis\n",
    "plt.figure(figsize=(8, 6))\n",
    "sns.boxplot(x='diagnosis', y='radius_mean', data=df, palette='Set2')\n",
    "plt.title('Box Plot of Mean Radius by Diagnosis')\n",
    "plt.xlabel('Diagnosis')\n",
    "plt.ylabel('Mean Radius')\n",
    "plt.show()"
   ]
  },
  {
   "cell_type": "markdown",
   "metadata": {},
   "source": [
    "### **Summary**"
   ]
  },
  {
   "cell_type": "markdown",
   "metadata": {},
   "source": [
    "The project successfully developed a reliable and interpretable model for breast cancer prediction, demonstrating the effectiveness of using machine learning techniques in healthcare applications. Implementing such models can significantly aid in early detection and treatment planning, ultimately contributing to better patient outcomes."
   ]
  }
 ],
 "metadata": {
  "kernelspec": {
   "display_name": "learn-env",
   "language": "python",
   "name": "python3"
  },
  "language_info": {
   "codemirror_mode": {
    "name": "ipython",
    "version": 3
   },
   "file_extension": ".py",
   "mimetype": "text/x-python",
   "name": "python",
   "nbconvert_exporter": "python",
   "pygments_lexer": "ipython3",
   "version": "3.8.5"
  }
 },
 "nbformat": 4,
 "nbformat_minor": 2
}
